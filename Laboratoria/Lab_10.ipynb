{
 "cells": [
  {
   "cell_type": "code",
   "execution_count": null,
   "id": "b92c95ad",
   "metadata": {},
   "outputs": [],
   "source": [
    "!pip install nycflights13"
   ]
  },
  {
   "cell_type": "code",
   "execution_count": null,
   "id": "fd164029",
   "metadata": {},
   "outputs": [],
   "source": [
    "import pandas as pd\n",
    "import nycflights13"
   ]
  },
  {
   "cell_type": "code",
   "execution_count": null,
   "id": "ac954133",
   "metadata": {},
   "outputs": [],
   "source": [
    "airlines = nycflights13.airlines\n",
    "airports = nycflights13.airports\n",
    "flights = nycflights13.flights\n",
    "planes = nycflights13.planes\n",
    "weather = nycflights13.weather"
   ]
  },
  {
   "cell_type": "code",
   "execution_count": null,
   "id": "207c56ac",
   "metadata": {},
   "outputs": [],
   "source": [
    "flights2 = flights[['year', 'month', 'day', 'hour', 'origin', 'dest', 'tailnum', 'carrier']]"
   ]
  },
  {
   "cell_type": "code",
   "execution_count": null,
   "id": "0057e633",
   "metadata": {},
   "outputs": [],
   "source": [
    "# Co zawierają różne tabelki? \n"
   ]
  },
  {
   "cell_type": "markdown",
   "id": "d3cb0bcb",
   "metadata": {},
   "source": [
    "## Zaawansowane operacje na ramkach danych"
   ]
  },
  {
   "cell_type": "markdown",
   "id": "d5269418",
   "metadata": {},
   "source": [
    "### 1. Join"
   ]
  },
  {
   "cell_type": "code",
   "execution_count": null,
   "id": "3e4de18f",
   "metadata": {},
   "outputs": [],
   "source": [
    "# Jak się nazywało lotnisko z którego odlatywały samoloty?\n",
    "\n",
    "flights2.merge(airports[['faa', 'name']], left_on='origin', right_on='faa')"
   ]
  },
  {
   "cell_type": "markdown",
   "id": "8bc49153",
   "metadata": {},
   "source": [
    "**Dlaczego `.merge()` a nie `.join()`?**\n",
    "\n",
    "Dlatego, że `.merge()` działa na kolumnach, natomiast `.join()` działa na indeksach. "
   ]
  },
  {
   "cell_type": "code",
   "execution_count": null,
   "id": "41859ea5",
   "metadata": {},
   "outputs": [],
   "source": [
    "# Jak się nazywała firma organizująca lot? \n",
    "\n",
    "flights2.merge(airlines, left_on='carrier', right_on='carrier')"
   ]
  },
  {
   "cell_type": "code",
   "execution_count": null,
   "id": "abea6b29",
   "metadata": {},
   "outputs": [],
   "source": [
    "# Jaki silnik miał samolot który odbył dany lot?\n",
    "\n",
    "# todo"
   ]
  },
  {
   "cell_type": "markdown",
   "id": "7864a5bf",
   "metadata": {},
   "source": [
    "### 2. Join po kilku kolumnach\n"
   ]
  },
  {
   "cell_type": "code",
   "execution_count": null,
   "id": "e203dd05",
   "metadata": {},
   "outputs": [],
   "source": [
    "# Jaka była pogoda w trakcie lotu? \n",
    "\n",
    "flights2.merge(weather, on=['origin','year','month','day','hour'])"
   ]
  },
  {
   "cell_type": "markdown",
   "id": "1b54a059",
   "metadata": {},
   "source": [
    "### 3. Group by"
   ]
  },
  {
   "cell_type": "code",
   "execution_count": null,
   "id": "d036ce3f",
   "metadata": {},
   "outputs": [],
   "source": [
    "# Liczba lotów danego dnia\n",
    "\n",
    "flight_count = flights2.groupby(['year', 'month', 'day'])\\\n",
    "                .count()\\\n",
    "                .reset_index()\\\n",
    "                .drop(['origin','dest','tailnum','carrier'], axis=1)\\\n",
    "                .rename(columns={'hour': 'count'})\n",
    "\n",
    "flight_count"
   ]
  },
  {
   "cell_type": "code",
   "execution_count": null,
   "id": "3de098db",
   "metadata": {},
   "outputs": [],
   "source": [
    "# Chcemy to umieścić na wykresie, co trzeba poprawić?\n",
    "\n",
    "flight_count['date'] = pd.to_datetime(flight_count[['year', 'month', 'day']])\n",
    "flight_count = flight_count.drop(['year', 'month', 'day'], axis=1)"
   ]
  },
  {
   "cell_type": "code",
   "execution_count": null,
   "id": "94b4a82a",
   "metadata": {},
   "outputs": [],
   "source": [
    "flight_count.plot(x='date', y='count', figsize=(15, 10))"
   ]
  },
  {
   "cell_type": "code",
   "execution_count": null,
   "id": "a92a072d",
   "metadata": {},
   "outputs": [],
   "source": [
    "# Jaka jest średnia liczba miejsc w zależności od producenta?\n",
    "\n",
    "planes.groupby('manufacturer')\\\n",
    "            .mean()['seats']\\\n",
    "            .reset_index()\\\n",
    "            .plot(x='manufacturer', y='seats', kind='bar', figsize=(15, 5))"
   ]
  },
  {
   "cell_type": "code",
   "execution_count": null,
   "id": "ae42d0b5",
   "metadata": {},
   "outputs": [],
   "source": [
    "# Ile różnych modeli ma każdy producent?\n",
    "\n",
    "\n",
    "planes.groupby('manufacturer')\\\n",
    "            .model\\\n",
    "            .nunique()\\\n",
    "            .reset_index()\\\n",
    "            .plot(x='manufacturer', y='model', kind='bar', figsize=(15, 5))"
   ]
  },
  {
   "cell_type": "code",
   "execution_count": null,
   "id": "488a5e03",
   "metadata": {},
   "outputs": [],
   "source": [
    "# Jaka jest maksymalna liczba silników w samolocie w zależności od producenta?\n",
    "\n",
    "# todo"
   ]
  },
  {
   "cell_type": "markdown",
   "id": "2c9980c4",
   "metadata": {},
   "source": [
    "### 4. Kilka innych pandasowych operacji"
   ]
  },
  {
   "cell_type": "code",
   "execution_count": null,
   "id": "428832aa",
   "metadata": {},
   "outputs": [],
   "source": [
    "# sort values (DataFrame)\n",
    "# Dziesięć samolotów o najwyższej liczbie miejsc?\n",
    "\n",
    "planes.sort_values(by='seats', ascending=False).head(10)"
   ]
  },
  {
   "cell_type": "code",
   "execution_count": null,
   "id": "74e6c7f2",
   "metadata": {},
   "outputs": [],
   "source": [
    "# unique (Series)\n",
    "# Jakie są rodzaje silników samolotów?\n",
    "\n",
    "planes['engine'].unique()"
   ]
  },
  {
   "cell_type": "code",
   "execution_count": null,
   "id": "3b8aee3d",
   "metadata": {},
   "outputs": [],
   "source": [
    "# isin (Series)\n",
    "# Ile lostów zostało wykonane przez samoloty o numerach N14228, N668DN i N511MQ?\n",
    "\n",
    "tailnums = ['N14228', 'N668DN', 'N511MQ']\n",
    "\n",
    "flights2[flights2['tailnum'].isin(tailnums)].shape[0]"
   ]
  },
  {
   "cell_type": "code",
   "execution_count": null,
   "id": "52fdd967",
   "metadata": {},
   "outputs": [],
   "source": [
    "# value_counts (Series)\n",
    "# Jaki są trzy najpopularniejsze modele samolotów?\n",
    "\n",
    "planes['model'].value_counts()[:3]"
   ]
  },
  {
   "cell_type": "markdown",
   "id": "4d6998ce",
   "metadata": {},
   "source": [
    "### 4. Zadania"
   ]
  },
  {
   "cell_type": "markdown",
   "id": "feb14282",
   "metadata": {},
   "source": [
    "**4.1** Ile lotów w poszczególnych miesiącach obsługiwała firma \"JetBlue Airways\"?"
   ]
  },
  {
   "cell_type": "code",
   "execution_count": null,
   "id": "60a63948",
   "metadata": {},
   "outputs": [],
   "source": []
  },
  {
   "cell_type": "code",
   "execution_count": null,
   "id": "1793037e",
   "metadata": {},
   "outputs": [],
   "source": []
  },
  {
   "cell_type": "markdown",
   "id": "b639367c",
   "metadata": {},
   "source": [
    "**4.2** W którym miesiącu jest najwięcej lotów firmy \"JetBlue Airways\"?"
   ]
  },
  {
   "cell_type": "code",
   "execution_count": null,
   "id": "b138a62e",
   "metadata": {},
   "outputs": [],
   "source": []
  },
  {
   "cell_type": "code",
   "execution_count": null,
   "id": "3084758e",
   "metadata": {},
   "outputs": [],
   "source": []
  },
  {
   "cell_type": "markdown",
   "id": "7e26a846",
   "metadata": {},
   "source": [
    "**4.3** Jaki jest `tailnum` samolotu który wykonał najwięcej lotów?"
   ]
  },
  {
   "cell_type": "code",
   "execution_count": null,
   "id": "b2431bea",
   "metadata": {},
   "outputs": [],
   "source": []
  },
  {
   "cell_type": "code",
   "execution_count": null,
   "id": "007b515e",
   "metadata": {},
   "outputs": [],
   "source": []
  },
  {
   "cell_type": "markdown",
   "id": "ea40b0f9",
   "metadata": {},
   "source": [
    "**4.4** Narysuj na mapie lotniska (x = lon; y = lat), do których samoloty lecą nie dłużej niż 5h z lotniska w JFK (faa='JFK').\n",
    "\n",
    "Wskazówka: zacznij od stworzenia listy lotnisk. "
   ]
  },
  {
   "cell_type": "code",
   "execution_count": null,
   "id": "0fa0dd8d",
   "metadata": {},
   "outputs": [],
   "source": []
  },
  {
   "cell_type": "code",
   "execution_count": null,
   "id": "da24da7a",
   "metadata": {},
   "outputs": [],
   "source": []
  }
 ],
 "metadata": {
  "kernelspec": {
   "display_name": "Python 3",
   "language": "python",
   "name": "python3"
  },
  "language_info": {
   "codemirror_mode": {
    "name": "ipython",
    "version": 3
   },
   "file_extension": ".py",
   "mimetype": "text/x-python",
   "name": "python",
   "nbconvert_exporter": "python",
   "pygments_lexer": "ipython3",
   "version": "3.8.5"
  }
 },
 "nbformat": 4,
 "nbformat_minor": 5
}
