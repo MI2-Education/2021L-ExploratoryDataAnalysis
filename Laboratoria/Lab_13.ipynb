{
 "cells": [
  {
   "cell_type": "markdown",
   "id": "055fe793",
   "metadata": {},
   "source": [
    "# Plotly"
   ]
  },
  {
   "cell_type": "markdown",
   "id": "bf28da6a",
   "metadata": {},
   "source": [
    "Plotly to bardzo rozbudowana biblioteka do tworzenia interaktywnych wykresów. Najbardziej podobną do `pyplot`'a konstrukcję ma `plotly.express` który poznamy na tych zajęciach."
   ]
  },
  {
   "cell_type": "code",
   "execution_count": null,
   "id": "41f0ab50",
   "metadata": {},
   "outputs": [],
   "source": [
    "import plotly.express as px\n",
    "from gapminder import gapminder\n",
    "import numpy as np\n",
    "import pandas as pd\n",
    "\n",
    "import dash\n",
    "import dash_core_components as dcc\n",
    "import dash_html_components as html\n",
    "from dash.dependencies import Input, Output\n",
    "import plotly.express as px"
   ]
  },
  {
   "cell_type": "markdown",
   "id": "703b6235",
   "metadata": {},
   "source": [
    "## gapminder"
   ]
  },
  {
   "cell_type": "code",
   "execution_count": null,
   "id": "480563d0",
   "metadata": {},
   "outputs": [],
   "source": [
    "gapminder"
   ]
  },
  {
   "cell_type": "code",
   "execution_count": null,
   "id": "05773a9d",
   "metadata": {},
   "outputs": [],
   "source": [
    "gapminder_2007 = gapminder[gapminder['year'] == 2007]\n",
    "\n",
    "fig = px.scatter(\n",
    "    data_frame=gapminder_2007,\n",
    "    x='gdpPercap',\n",
    "    y='lifeExp',\n",
    "    color='continent',\n",
    "    custom_data=['country', 'pop'],\n",
    "    size='pop',\n",
    "    size_max=55,\n",
    "    log_x=True,\n",
    "    labels={\n",
    "        \"lifeExp\": 'Life expectancy (years)',\n",
    "        \"gdpPercap\": 'GDP per capita (USD)'\n",
    "    }\n",
    ")\n",
    "\n",
    "hovertemplate = \"<b>%{customdata[0]}</b><br>\" +\\\n",
    "                \"GDP per Capita: %{x:$,.2f}<br>\" +\\\n",
    "                \"Life Expectation: %{y}<br>\" +\\\n",
    "                \"Population: %{customdata[1]:,.0f}\"\n",
    "\n",
    "fig.update_traces(\n",
    "    hovertemplate=hovertemplate\n",
    ")\n",
    "\n",
    "\n",
    "fig.show()"
   ]
  },
  {
   "cell_type": "code",
   "execution_count": null,
   "id": "3772c3ee",
   "metadata": {},
   "outputs": [],
   "source": [
    "# co jak chcemy sprawdzić dla różnych lat?\n",
    "\n",
    "fig = px.scatter(\n",
    "    data_frame=gapminder,\n",
    "    x='gdpPercap',\n",
    "    y='lifeExp',\n",
    "    color='continent',\n",
    "    animation_frame=\"year\",\n",
    "    animation_group=\"country\",\n",
    "    custom_data=['country', 'pop'],\n",
    "    size='pop',\n",
    "    size_max=55,\n",
    "    log_x=True,\n",
    "    labels={\n",
    "        \"lifeExp\": 'Life expectancy (years)',\n",
    "        \"gdpPercap\": 'GDP per capita (USD)'\n",
    "    },\n",
    "    range_x=[100,100000], \n",
    "    range_y=[25,90]\n",
    ")\n",
    "\n",
    "\n",
    "fig[\"layout\"].pop(\"updatemenus\")\n",
    "\n",
    "fig.update_traces(\n",
    "    hovertemplate=hovertemplate\n",
    ")\n",
    "\n",
    "\n",
    "fig.show()"
   ]
  },
  {
   "cell_type": "code",
   "execution_count": null,
   "id": "173b00b5",
   "metadata": {},
   "outputs": [],
   "source": [
    "# Jak się zmieniał rozkład w latach?\n",
    "\n",
    "fig = px.scatter(\n",
    "    data_frame=gapminder,\n",
    "    x='gdpPercap',\n",
    "    y='lifeExp',\n",
    "    color='continent',\n",
    "    animation_frame=\"year\",\n",
    "    animation_group=\"country\",\n",
    "    custom_data=['country', 'pop'],\n",
    "    size='pop',\n",
    "    size_max=55,\n",
    "    log_x=True,\n",
    "    labels={\n",
    "        \"lifeExp\": 'Life expectancy (years)',\n",
    "        \"gdpPercap\": 'GDP per capita (USD)'\n",
    "    },\n",
    "    range_x=[100,100000], \n",
    "    range_y=[25,90],\n",
    "    marginal_y=\"box\"\n",
    ")\n",
    "\n",
    "\n",
    "fig[\"layout\"].pop(\"updatemenus\")\n",
    "\n",
    "fig.update_traces(\n",
    "    hovertemplate=hovertemplate\n",
    ")\n",
    "\n",
    "\n",
    "fig.show()"
   ]
  },
  {
   "cell_type": "code",
   "execution_count": null,
   "id": "aaba2d45",
   "metadata": {},
   "outputs": [],
   "source": [
    "# lifeExp w różnych krajach w kolejnych latach (wykres liniowy) – interaktywnie?"
   ]
  },
  {
   "cell_type": "code",
   "execution_count": null,
   "id": "29c0c017",
   "metadata": {},
   "outputs": [],
   "source": [
    "countries = gapminder['country'].unique()\n",
    "\n",
    "app = dash.Dash(__name__)\n",
    "\n",
    "app.layout = html.Div([\n",
    "    dcc.Dropdown(\n",
    "        id=\"dropdown\",\n",
    "        options=[\n",
    "            {\n",
    "                \"label\": c,\n",
    "                \"value\":c\n",
    "            } for c in countries],\n",
    "        value=['China', 'Poland', 'United States'], # wartości początkowe\n",
    "        multi=True # dopuszczamy umieszczenie wielu krajów na wykresie\n",
    "    ),\n",
    "    dcc.Graph(id=\"linechart\"),\n",
    "])\n",
    "\n",
    "@app.callback(\n",
    "    Output(\"linechart\", \"figure\"), \n",
    "    [Input(\"dropdown\", \"value\")])\n",
    "def update_bar_chart(selected):\n",
    "    df = gapminder[gapminder['country'].isin(selected)]\n",
    "    fig = px.line(\n",
    "        df, x=\"year\", y=\"lifeExp\", color='country')\n",
    "    return fig\n",
    "\n",
    "app.run_server(debug=True, use_reloader=False)"
   ]
  },
  {
   "cell_type": "code",
   "execution_count": null,
   "id": "7aec45b2",
   "metadata": {},
   "outputs": [],
   "source": [
    "# Rozkład popularności imion dzieci w Polsce"
   ]
  },
  {
   "cell_type": "code",
   "execution_count": null,
   "id": "a719e6d6",
   "metadata": {},
   "outputs": [],
   "source": [
    "DATA_URL = 'https://api.dane.gov.pl/media/resources/20190822/IMIONA_ur_01.01.2019-30.06.2019.xlsx'\n",
    "\n",
    "names = pd.read_excel(DATA_URL)"
   ]
  },
  {
   "cell_type": "code",
   "execution_count": null,
   "id": "4085408c",
   "metadata": {},
   "outputs": [],
   "source": [
    "names"
   ]
  },
  {
   "cell_type": "code",
   "execution_count": null,
   "id": "71b2aaba",
   "metadata": {},
   "outputs": [],
   "source": [
    "most_popular = names.sort_values('Liczba', ascending=False)\n",
    "\n",
    "\n",
    "app = dash.Dash(__name__)\n",
    "app.layout = html.Div([\n",
    "    dcc.Slider(\n",
    "        id='slider',\n",
    "        min=5,\n",
    "        max=200,\n",
    "        step=1,\n",
    "        value=10,\n",
    "    ),\n",
    "    dcc.Dropdown(\n",
    "        id='dropdown',\n",
    "        options=[\n",
    "            {\n",
    "                \"label\": x,\n",
    "                \"value\":x\n",
    "            } for x in ['M', 'K']],\n",
    "        value=['M', 'K'], # wartości początkowe\n",
    "        multi=True # dopuszczamy umieszczenie wielu krajów na wykresie\n",
    "    ),\n",
    "    dcc.Graph(id=\"barchart\")\n",
    "])\n",
    "\n",
    "\n",
    "@app.callback(\n",
    "    Output('barchart', 'figure'),\n",
    "    [Input('slider', 'value'), Input('dropdown', 'value')])\n",
    "def update_bar_chart(n_names, genders):\n",
    "    df = most_popular[most_popular['Płeć'].isin(genders)][:n_names]\n",
    "    fig = px.bar(\n",
    "        df, x=\"Imię\", y=\"Liczba\")\n",
    "    return fig\n",
    "\n",
    "\n",
    "app.run_server(debug=True, use_reloader=False)"
   ]
  },
  {
   "cell_type": "code",
   "execution_count": null,
   "id": "feda9bde",
   "metadata": {},
   "outputs": [],
   "source": []
  }
 ],
 "metadata": {
  "kernelspec": {
   "display_name": "Python 3",
   "language": "python",
   "name": "python3"
  },
  "language_info": {
   "codemirror_mode": {
    "name": "ipython",
    "version": 3
   },
   "file_extension": ".py",
   "mimetype": "text/x-python",
   "name": "python",
   "nbconvert_exporter": "python",
   "pygments_lexer": "ipython3",
   "version": "3.8.5"
  }
 },
 "nbformat": 4,
 "nbformat_minor": 5
}
