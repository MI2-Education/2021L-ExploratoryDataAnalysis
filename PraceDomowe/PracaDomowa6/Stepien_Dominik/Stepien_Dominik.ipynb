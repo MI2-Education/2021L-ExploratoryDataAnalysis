{
 "cells": [
  {
   "cell_type": "code",
   "execution_count": 3,
   "id": "a107dcc4",
   "metadata": {},
   "outputs": [],
   "source": [
    "import pandas as pd\n",
    "import numpy as np"
   ]
  },
  {
   "cell_type": "code",
   "execution_count": 4,
   "id": "83ef35c2",
   "metadata": {},
   "outputs": [],
   "source": [
    "path1 = \"Comments.csv.gz\"\n",
    "path2 = \"Posts.csv.gz\"\n",
    "path3 = \"Users.csv.gz\"\n",
    "df_comm = pd.read_csv(path1)\n",
    "df_post = pd.read_csv(path2)\n",
    "df_user = pd.read_csv(path3)"
   ]
  },
  {
   "cell_type": "markdown",
   "id": "db4131d5",
   "metadata": {},
   "source": [
    "# Zadanie 1"
   ]
  },
  {
   "cell_type": "code",
   "execution_count": 7,
   "id": "7b2233d7",
   "metadata": {},
   "outputs": [
    {
     "data": {
      "image/png": "[encoded data removed]",
      "text/plain": [
       "<Figure size 1080x720 with 1 Axes>"
      ]
     },
     "metadata": {
      "needs_background": "light"
     },
     "output_type": "display_data"
    }
   ],
   "source": [
    "# zliczamy liczbę komentarzy pod danym postem\n",
    "liczba=df_comm.groupby('PostId')\\\n",
    "            .count()\\\n",
    "            .reset_index()\\\n",
    "            .drop(['CreationDate', 'Score', 'UserId'], axis=1)\\\n",
    "            .rename(columns={'Id': 'Count'})\n",
    "# rysujemy histogram, przypisujemy do zmiennej by wyświetlił się sam histogram, bez zbędnych napisów \n",
    "a=liczba.hist('Count', figsize = (15,10))"
   ]
  },
  {
   "cell_type": "markdown",
   "id": "7f6de4a5",
   "metadata": {},
   "source": [
    "# Zadanie 2"
   ]
  },
  {
   "cell_type": "code",
   "execution_count": 5,
   "id": "a437fc0e",
   "metadata": {},
   "outputs": [
    {
     "data": {
      "text/plain": [
       "'hitec'"
      ]
     },
     "execution_count": 5,
     "metadata": {},
     "output_type": "execute_result"
    }
   ],
   "source": [
    "# sumujemy wyświetlenie dla każdego z użytkowników\n",
    "wyswietlenia = df_post.groupby('OwnerUserId')\\\n",
    "                .sum()\\\n",
    "                .merge(df_user[['AccountId', 'DisplayName']], left_on='OwnerUserId', right_on='AccountId')\\\n",
    "                .sort_values('ViewCount', ascending=False)\n",
    "# wybieramy nick użytkownika z największą sumą wyświetleń\n",
    "wyswietlenia['DisplayName'].values[0]"
   ]
  },
  {
   "cell_type": "markdown",
   "id": "311264fb",
   "metadata": {},
   "source": [
    "# Zadanie 3"
   ]
  },
  {
   "cell_type": "code",
   "execution_count": 6,
   "id": "2047fcce",
   "metadata": {},
   "outputs": [
    {
     "data": {
      "text/plain": [
       "'jpatokal'"
      ]
     },
     "execution_count": 6,
     "metadata": {},
     "output_type": "execute_result"
    }
   ],
   "source": [
    "# wybieramy odpowiedzi ze wszystkich postów\n",
    "odpowiedzi = df_post[df_post['PostTypeId']==2][['OwnerUserId', 'Id']]\n",
    "# wybieramy zaakceptowane odpowiedzi\n",
    "zaakceptowane = odpowiedzi.merge(df_post[['AcceptedAnswerId']], left_on='Id', right_on='AcceptedAnswerId')\\\n",
    "                        .groupby('OwnerUserId')\\\n",
    "                        .count()\\\n",
    "                        .reset_index()\\\n",
    "                        .drop('AcceptedAnswerId', axis=1)\\\n",
    "                        .rename(columns={'Id': 'Count'})\n",
    "# dodajemy do Id użytkowników nicki\n",
    "uzyt_akc = zaakceptowane.merge(df_user[['DisplayName', 'Id']], left_on='OwnerUserId', right_on='Id')\\\n",
    "                        .drop('Id', axis=1)\\\n",
    "                        .sort_values(by='Count', ascending=False)\n",
    "# wybieramy nick użytkownika z drugą największą liczbą zaakceptowanych odpowiedzi\n",
    "uzyt_akc['DisplayName'].values[1]"
   ]
  },
  {
   "cell_type": "markdown",
   "id": "f204cbad",
   "metadata": {},
   "source": [
    "# Zadanie 4"
   ]
  },
  {
   "cell_type": "code",
   "execution_count": 5,
   "id": "aa2f3a6a",
   "metadata": {},
   "outputs": [
    {
     "data": {
      "text/plain": [
       "4.099266156395486"
      ]
     },
     "execution_count": 5,
     "metadata": {},
     "output_type": "execute_result"
    }
   ],
   "source": [
    "#wybieramy odpowiedzi ze wszystkich postów\n",
    "odpowiedzi = df_post[df_post['PostTypeId']==2][['OwnerUserId', 'Id', 'Score', 'ParentId']]\n",
    "# wybieramy odpowiedzi, które zostały zaakceptowane\n",
    "zaakceptowane = odpowiedzi.merge(df_post[['AcceptedAnswerId']], left_on='Id', right_on='AcceptedAnswerId')\n",
    "# łączymy zaakceptowane odpowiedzi z innymi odpowiedziami pod danym zapytaniem\n",
    "akc = zaakceptowane.merge(odpowiedzi, left_on='ParentId', right_on='ParentId', suffixes=('_acc', ''))\n",
    "#wybieramy pytania ze wszystkich postów\n",
    "pytania = df_post[df_post['PostTypeId']==1]\n",
    "#liczba zapytań, u których wynik zaakceptowanej odpowiedzi jest mniejszy niż wynik innej odpowiedzi/liczba wszystkich zapytań\n",
    "akc[akc['Score_acc']<akc['Score']]['ParentId'].unique().shape[0]/pytania.shape[0]*100 "
   ]
  }
 ],
 "metadata": {
  "kernelspec": {
   "display_name": "Python 3",
   "language": "python",
   "name": "python3"
  },
  "language_info": {
   "codemirror_mode": {
    "name": "ipython",
    "version": 3
   },
   "file_extension": ".py",
   "mimetype": "text/x-python",
   "name": "python",
   "nbconvert_exporter": "python",
   "pygments_lexer": "ipython3",
   "version": "3.8.4rc1"
  }
 },
 "nbformat": 4,
 "nbformat_minor": 5
}
