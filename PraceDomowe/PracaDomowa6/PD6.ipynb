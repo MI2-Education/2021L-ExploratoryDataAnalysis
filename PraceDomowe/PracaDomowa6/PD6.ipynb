{
 "cells": [
  {
   "cell_type": "markdown",
   "id": "1ddac3f4",
   "metadata": {},
   "source": [
    "# Raport do PD6"
   ]
  },
  {
   "cell_type": "markdown",
   "id": "113845ec",
   "metadata": {},
   "source": [
    "## Wstęp"
   ]
  },
  {
   "cell_type": "markdown",
   "id": "b4f0bb37",
   "metadata": {},
   "source": [
    " Celem raporu jest przygotowanie poprawionej wizualizacji danych utworzonej z wykorzystaniem pakietu _matplotlib._"
   ]
  },
  {
   "cell_type": "markdown",
   "id": "6baff1d3",
   "metadata": {},
   "source": [
    "## Pierwotna Wizualizacja"
   ]
  },
  {
   "cell_type": "markdown",
   "id": "36047477",
   "metadata": {},
   "source": [
    "Poniższa wizualizacja pochodzi z profilu społecznościowego stowarzyszenia **Europe Elects.** Przedstawia wizualizację wyników sondażu wyborczego mającego na celu zbadać, który z kandydatów wygrałby wybory, gdyby doszlo do nich w tym momencie.<br/> Sondaż został przeprowadzony na początku marca br, a jego wyniki zostały opublikowane 21 marca na portalu _twitter.com_"
   ]
  },
  {
   "cell_type": "markdown",
   "id": "0b475ec9",
   "metadata": {},
   "source": [
    "![title](https://pbs.twimg.com/media/Ew8EaO-WgAgcH_o?format=jpg&name=medium)"
   ]
  },
  {
   "cell_type": "markdown",
   "id": "11ab4f84",
   "metadata": {},
   "source": [
    "## Motywacja do wprowadzenia zmian"
   ]
  },
  {
   "cell_type": "markdown",
   "id": "b525b163",
   "metadata": {},
   "source": [
    "- Kolorystyka wykresu jest zbyt jaskrawa, a nie wnosi żadnych pożytecznych informacji.\n",
    "- Dodatkowy chaos wprowadza fakt, że pojedyńcze kategorie nie są oznaczone jednolitym kolorem. Kategorie są oznaczone tym samym profilem kolorystycznym, a różnią się jedynie orientacją pasków, przez co trudniej rozpoznać, gdzie są granice między nimi.\n",
    "- Ponadto, wykres jest kołowy, co dodatkowo zaburza percepcję wielkości dla przeciętnego odbiorcy."
   ]
  },
  {
   "cell_type": "markdown",
   "id": "71799209",
   "metadata": {},
   "source": [
    "## Poprawiona grafika"
   ]
  },
  {
   "cell_type": "code",
   "execution_count": 11,
   "id": "0caefbde",
   "metadata": {},
   "outputs": [
    {
     "data": {
      "image/png": "[encoded data removed]",
      "text/plain": [
       "<Figure size 800x640 with 1 Axes>"
      ]
     },
     "metadata": {
      "needs_background": "light"
     },
     "output_type": "display_data"
    }
   ],
   "source": [
    "import matplotlib.pyplot as mpl\n",
    "\n",
    "from matplotlib.pyplot import figure\n",
    "figure(figsize=(10, 8), dpi=80)\n",
    "   \n",
    "Candidates = ['Zelenskyi', 'Razumkov']\n",
    "Poparcie = [63, 37]\n",
    "\n",
    "mpl.bar(Candidates, Poparcie)\n",
    "mpl.title('Ukraine (Presidential election run-off)')\n",
    "mpl.xlabel('Candidates')\n",
    "mpl.ylabel('Following (%)')\n",
    "mpl.show()"
   ]
  },
  {
   "cell_type": "markdown",
   "id": "4b5084c6",
   "metadata": {},
   "source": [
    "## Uzasadnienie Zmian"
   ]
  },
  {
   "cell_type": "markdown",
   "id": "d37bf96e",
   "metadata": {},
   "source": [
    "- Jednolitość kolorów eliminuje potencjalne czynniki rozpraszające potencjalnego odbiorcę.\n",
    "- Wykres kolumnowy dodatkowo pomaga w porównaniu proporcji danych, co jest poprawą w porównaniu z mylącym wykresem kołowym."
   ]
  }
 ],
 "metadata": {
  "kernelspec": {
   "display_name": "Python 3",
   "language": "python",
   "name": "python3"
  },
  "language_info": {
   "codemirror_mode": {
    "name": "ipython",
    "version": 3
   },
   "file_extension": ".py",
   "mimetype": "text/x-python",
   "name": "python",
   "nbconvert_exporter": "python",
   "pygments_lexer": "ipython3",
   "version": "3.8.8"
  }
 },
 "nbformat": 4,
 "nbformat_minor": 5
}
