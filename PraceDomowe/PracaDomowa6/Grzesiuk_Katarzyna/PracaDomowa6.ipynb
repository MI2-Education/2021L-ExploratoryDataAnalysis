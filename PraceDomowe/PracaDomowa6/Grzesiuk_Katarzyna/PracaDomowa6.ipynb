{
 "cells": [
  {
   "cell_type": "markdown",
   "metadata": {},
   "source": [
    "# Praca Domowa 6\n",
    "## Katarzyna Grzesiuk"
   ]
  },
  {
   "cell_type": "code",
   "execution_count": 5,
   "metadata": {},
   "outputs": [],
   "source": [
    "#import potrzebnych pakietów\n",
    "import pandas as pd\n",
    "import numpy as np\n",
    "from matplotlib import pyplot as plt"
   ]
  },
  {
   "cell_type": "markdown",
   "metadata": {},
   "source": [
    "## 1. Wadliwy wykres"
   ]
  },
  {
   "cell_type": "markdown",
   "metadata": {},
   "source": [
    "Wykres na jaki się zdecydowałam pochodzi ze strony: \n",
    "[https://www.parkiet.com/Technologie/303229992-CDA-nawet-po-pandemii-VOD-pozostanie-mocne.html](https://www.parkiet.com/Technologie/303229992-CDA-nawet-po-pandemii-VOD-pozostanie-mocne.html)\n",
    "Jest on przedstawiony razem z wykresem kursu akcji spółki CDA, ale zajmę się tylko wizualizacją przychodów, składającą się z dwóch wykresów. "
   ]
  },
  {
   "cell_type": "markdown",
   "metadata": {},
   "source": [
    "<center>\n",
    "<div>\n",
    "<img src=\"wadliwy.png\" width=\"400\"/>\n",
    "</div>\n",
    "</center>"
   ]
  },
  {
   "cell_type": "markdown",
   "metadata": {},
   "source": [
    "## 2. Główny problem wykresu"
   ]
  },
  {
   "cell_type": "markdown",
   "metadata": {},
   "source": [
    "Mamy przedstawione dwa wykresy obok siebie. Najbardziej problematyczna jest skala wykresu znajdującego się po prawej stronie. Można by pomyśleć, że liczby na skali są 10 razy większe niż dane wartości jednak nietrudno zauważyć,że nawet po przeskalowaniu słupki są ewidentnie złej wysokości. Dodatkowo wykresy są podpisane w nieczytelny sposób i na pierwszy rzut oka ciężko jest zorientować się co właściwie przedstawiają. Jeśli jednak już doczytamy się, że wykres po lewej przedstawia przychody, a po prawej przychody netto, a kolorami oznaczone są odpowiednie lata, to możemy zauważyć, że przy takim niefortunnym położeniu wykresów i błędnej skali wynik netto wydaje się być wyższy niż przychody, co oczywiście nie jest możliwe."
   ]
  },
  {
   "cell_type": "markdown",
   "metadata": {},
   "source": [
    "## 3. Propozycja zmiany wykresu"
   ]
  },
  {
   "cell_type": "markdown",
   "metadata": {},
   "source": [
    "### Zmieniony wykres "
   ]
  },
  {
   "cell_type": "code",
   "execution_count": 37,
   "metadata": {},
   "outputs": [
    {
     "data": {
      "image/png": "[encoded data removed]",
      "text/plain": [
       "<Figure size 504x360 with 1 Axes>"
      ]
     },
     "metadata": {
      "needs_background": "light"
     },
     "output_type": "display_data"
    }
   ],
   "source": [
    "# funkcja, która będzie dodawała podpisy odpowiednich słupków\n",
    "def addlabels(x,y):\n",
    "    for i in range(len(x)):\n",
    "        plt.text(x[i], y[i]+0.5, y[i], ha = 'center',size=12)\n",
    "\n",
    "plt.figure(figsize=(7, 5))\n",
    "\n",
    "#dane wykorzystane do stworzenia wykresu i doatkowe potrzebne parametry\n",
    "cda_19 = [42.9,9.2]\n",
    "cda_20 = [60.5,16.3]\n",
    "nazwy = ['Brutto', 'Netto']\n",
    "x = np.arange(len(nazwy))\n",
    "width = 0.35\n",
    "\n",
    "#wykresy słupkowe pogrupowane pod względem roku \n",
    "plt.bar(\n",
    "    x - width/2,\n",
    "    cda_19,\n",
    "    width,\n",
    "    label='2019'\n",
    ")\n",
    "\n",
    "plt.bar(\n",
    "    x + width/2,\n",
    "    cda_20,\n",
    "    width,\n",
    "    label='2020',\n",
    "    color='lightseagreen'\n",
    ")\n",
    "\n",
    "#dodanie podpisów osi OX\n",
    "r=[0,1]\n",
    "plt.xticks(r, nazwy)\n",
    "\n",
    "#opisy osi oraz tytuł\n",
    "plt.title('Przychody spółki CDA w latach 2019 i 2020')\n",
    "plt.xlabel('Rodzaj przychodów')\n",
    "plt.ylabel('Wielkość przychodów (w mln zł)')\n",
    "\n",
    "#wywołanie wyżej zdefiniowanej funkcji osobno dla każdej grupy słupków\n",
    "addlabels(x - width/2, cda_19)\n",
    "addlabels(x + width/2, cda_20)\n",
    "\n",
    "#dodanie legendy\n",
    "plt.legend()\n",
    "\n",
    "plt.show()"
   ]
  },
  {
   "cell_type": "markdown",
   "metadata": {},
   "source": [
    "### Uzasadnienie"
   ]
  },
  {
   "cell_type": "markdown",
   "metadata": {},
   "source": [
    "Na powyższej wizualizacji dane zostały zebrane na jeden wykres. Słupki mają teraz odpowiednie wysokości i zostały pogrupowane względem rodzaju przychodów, tak jak na oryginalnym wykresie. Patrząc na taki wykres jesteśmy w stanie porównać wartości przychodów całkowitych i wyników netto, ponieważ są one przedstawione w tej samej skali. Jednocześnie możemy też zaobserwować różnicę pomiędzy rokiem 2019 i 2020."
   ]
  }
 ],
 "metadata": {
  "kernelspec": {
   "display_name": "Python 3",
   "language": "python",
   "name": "python3"
  },
  "language_info": {
   "codemirror_mode": {
    "name": "ipython",
    "version": 3
   },
   "file_extension": ".py",
   "mimetype": "text/x-python",
   "name": "python",
   "nbconvert_exporter": "python",
   "pygments_lexer": "ipython3",
   "version": "3.8.2"
  }
 },
 "nbformat": 4,
 "nbformat_minor": 4
}
