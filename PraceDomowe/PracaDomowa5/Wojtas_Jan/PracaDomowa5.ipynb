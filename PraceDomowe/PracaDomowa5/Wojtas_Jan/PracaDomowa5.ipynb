{
 "cells": [
  {
   "cell_type": "code",
   "execution_count": 36,
   "metadata": {},
   "outputs": [],
   "source": [
    "import pandas as pd\n",
    "import matplotlib.pyplot as plt\n",
    "import numpy as np"
   ]
  },
  {
   "cell_type": "code",
   "execution_count": 37,
   "metadata": {
    "scrolled": true
   },
   "outputs": [],
   "source": [
    "Comments = pd.read_csv(\"Comments.csv.gz\")\n",
    "Users = pd.read_csv(\"Users.csv.gz\")\n",
    "Posts = pd.read_csv(\"Posts.csv.gz\")"
   ]
  },
  {
   "cell_type": "markdown",
   "metadata": {},
   "source": [
    "# Zadanie 1"
   ]
  },
  {
   "cell_type": "code",
   "execution_count": 45,
   "metadata": {
    "scrolled": true
   },
   "outputs": [
    {
     "data": {
      "image/png": "[encoded data removed]",
      "text/plain": [
       "<Figure size 576x432 with 1 Axes>"
      ]
     },
     "metadata": {
      "needs_background": "light"
     },
     "output_type": "display_data"
    }
   ],
   "source": [
    "Posts.hist('CommentCount',figsize = (8,6))\n",
    "plt.xlabel('Liczba komentarzy')\n",
    "plt.ylabel('Liczba postów, mających daną ilość komentarzy')\n",
    "plt.title(' Histogram liczby odpowiedzi na post')\n",
    "plt.show()"
   ]
  },
  {
   "cell_type": "markdown",
   "metadata": {},
   "source": [
    "# Zadanie 2"
   ]
  },
  {
   "cell_type": "code",
   "execution_count": 39,
   "metadata": {},
   "outputs": [
    {
     "data": {
      "text/plain": [
       "'Mark Mayo'"
      ]
     },
     "execution_count": 39,
     "metadata": {},
     "output_type": "execute_result"
    }
   ],
   "source": [
    "Owner_Id_with_most_viewed_posts = Posts.groupby('OwnerUserId')\\\n",
    ".ViewCount.sum()\\\n",
    ".reset_index()\\\n",
    ".sort_values(by = 'ViewCount', ascending = False)\\\n",
    ".reset_index()\\\n",
    ".loc[0,'OwnerUserId']\n",
    "\n",
    "\n",
    "Users[Users['Id']==Owner_Id_with_most_viewed_posts].reset_index().loc[0,'DisplayName'] "
   ]
  },
  {
   "cell_type": "markdown",
   "metadata": {},
   "source": [
    "# Zadanie 3"
   ]
  },
  {
   "cell_type": "code",
   "execution_count": 40,
   "metadata": {},
   "outputs": [
    {
     "data": {
      "text/plain": [
       "'jpatokal'"
      ]
     },
     "execution_count": 40,
     "metadata": {},
     "output_type": "execute_result"
    }
   ],
   "source": [
    "Second_accepted_answers = Posts.loc[Posts['Id'].isin(Posts['AcceptedAnswerId']),['Id','OwnerUserId']]\\\n",
    "    .groupby('OwnerUserId').count()\\\n",
    "    .sort_values(by=\"Id\", ascending = False)\\\n",
    "    .reset_index().loc[1,'OwnerUserId']\n",
    "\n",
    "Users[Users['Id'] == Second_accepted_answers].reset_index().loc[0,'DisplayName']"
   ]
  },
  {
   "cell_type": "markdown",
   "metadata": {},
   "source": [
    "# Zadanie 4"
   ]
  },
  {
   "cell_type": "code",
   "execution_count": 41,
   "metadata": {
    "scrolled": true
   },
   "outputs": [
    {
     "data": {
      "text/plain": [
       "0.09044220055710306"
      ]
     },
     "execution_count": 41,
     "metadata": {},
     "output_type": "execute_result"
    }
   ],
   "source": [
    "AcceptedAnswers_score = Posts.loc[Posts['Id'].isin(Posts['AcceptedAnswerId']),['Id','ParentId','Score']]\\\n",
    "    .reset_index()\\\n",
    "    .drop(['Id','index'],axis = 1)\n",
    "\n",
    "OtherAnswersMaxScore = Posts.loc[~Posts['Id'].isin(Posts['AcceptedAnswerId']),['Id','Score','ParentId']]\\\n",
    "    .groupby('ParentId').max('Score')\\\n",
    "    .reset_index().drop(['Id'], axis = 1)\\\n",
    "    .rename(columns={'Score': 'MaxScore'})\n",
    "\n",
    "\n",
    "Scores = AcceptedAnswers_score.merge(OtherAnswersMaxScore, on = 'ParentId')\n",
    "\n",
    "k = 0 # Liczba postów, dla których zaakceptowana odpowiedź ma niższy wynik niż odpowiedź o najwyższym wyniku.\n",
    "\n",
    "for i in range (0,len(Scores)):\n",
    "    if Scores.loc[i,'Score'] < Scores.loc[i,'MaxScore']:\n",
    "        k+=1\n",
    "    else:\n",
    "        continue\n",
    "\n",
    "k/len(AcceptedAnswers_score) # Liczymy odsetek postów, dla których zaakceptowana odpowiedź ma \n",
    "# niższy wynik niż odpowiedź o najwyższym wyniku, dzieląc k przez ilość postów, dla których istnieje AcceptedAnswer.\n",
    "            \n",
    "    \n",
    "\n",
    "\n",
    "\n"
   ]
  }
 ],
 "metadata": {
  "kernelspec": {
   "display_name": "Python 3",
   "language": "python",
   "name": "python3"
  },
  "language_info": {
   "codemirror_mode": {
    "name": "ipython",
    "version": 3
   },
   "file_extension": ".py",
   "mimetype": "text/x-python",
   "name": "python",
   "nbconvert_exporter": "python",
   "pygments_lexer": "ipython3",
   "version": "3.8.5"
  }
 },
 "nbformat": 4,
 "nbformat_minor": 4
}
