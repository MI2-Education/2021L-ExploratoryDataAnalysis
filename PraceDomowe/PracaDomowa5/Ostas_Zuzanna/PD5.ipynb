{
 "cells": [
  {
   "cell_type": "code",
   "execution_count": 2,
   "id": "2ba5723e",
   "metadata": {},
   "outputs": [],
   "source": [
    "import pandas as pd"
   ]
  },
  {
   "cell_type": "code",
   "execution_count": 3,
   "id": "62b1470e",
   "metadata": {},
   "outputs": [],
   "source": [
    "# Wczytanie danych\n",
    "\n",
    "df_comments = pd.read_csv(\"Comments.csv\")\n",
    "df_posts = pd.read_csv(\"Posts.csv\")\n",
    "df_users = pd.read_csv(\"Users.csv\")"
   ]
  },
  {
   "cell_type": "code",
   "execution_count": 136,
   "id": "5b9f0b50",
   "metadata": {},
   "outputs": [
    {
     "data": {
      "text/plain": [
       "<AxesSubplot:>"
      ]
     },
     "execution_count": 136,
     "metadata": {},
     "output_type": "execute_result"
    },
    {
     "data": {
      "image/png": "[encoded data removed]",
      "text/plain": [
       "<Figure size 432x288 with 1 Axes>"
      ]
     },
     "metadata": {
      "needs_background": "light"
     },
     "output_type": "display_data"
    }
   ],
   "source": [
    "# Zadanie 1\n",
    "\n",
    "df_comments.groupby(\"PostId\")\\\n",
    "        .count()\\\n",
    "        .rename(columns={\"Id\":\"n_coms\"})[\"n_coms\"].hist()"
   ]
  },
  {
   "cell_type": "code",
   "execution_count": 42,
   "id": "e074eae2",
   "metadata": {},
   "outputs": [
    {
     "data": {
      "text/plain": [
       "'Mark Mayo'"
      ]
     },
     "execution_count": 42,
     "metadata": {},
     "output_type": "execute_result"
    }
   ],
   "source": [
    "# Zadanie 2\n",
    "\n",
    "df_users[['DisplayName', 'Views']]\\\n",
    "        .sort_values(by='Views', ascending = False).values[0,0]\n"
   ]
  },
  {
   "cell_type": "code",
   "execution_count": 91,
   "id": "40990150",
   "metadata": {},
   "outputs": [
    {
     "data": {
      "text/plain": [
       "'Relaxed'"
      ]
     },
     "execution_count": 91,
     "metadata": {},
     "output_type": "execute_result"
    }
   ],
   "source": [
    "# Zadanie 3\n",
    "\n",
    "df3 = df_posts[df_posts[\"PostTypeId\"] == 2]\n",
    "userid = df3[[\"Id\", \"OwnerUserId\" ]]\\\n",
    "        .groupby(\"OwnerUserId\")\\\n",
    "        .count()\\\n",
    "        .reset_index()\\\n",
    "        .rename(columns={\"Id\":\"count\"})\\\n",
    "        .sort_values(\"count\", ascending=False).values[1,0]\n",
    "\n",
    "df_users[df_users[\"Id\"] == userid ][\"DisplayName\"].values[0]\n"
   ]
  },
  {
   "cell_type": "code",
   "execution_count": 130,
   "id": "c1858ff3",
   "metadata": {},
   "outputs": [
    {
     "data": {
      "text/plain": [
       "0.2506420285149216"
      ]
     },
     "execution_count": 130,
     "metadata": {},
     "output_type": "execute_result"
    }
   ],
   "source": [
    "#Zadanie 4\n",
    "\n",
    "aa = df_posts[df_posts[\"PostTypeId\"] == 2]\n",
    "aa = aa[[\"Id\", \"ParentId\", \"Score\"]]\\\n",
    "        .rename(columns={\"Id\":\"AA_Id\", \"Score\": \"AA_score\"})\n",
    "\n",
    "com = df_comments[[ \"PostId\", \"Score\"]]\\\n",
    "        .groupby(\"PostId\")\\\n",
    "        .max()\\\n",
    "        .reset_index()\\\n",
    "        .rename(columns={\"Score\":\"Max_score\"})\n",
    "\n",
    "df4 = aa.merge(com, left_on=\"ParentId\", right_on=\"PostId\")\n",
    "\n",
    "\n",
    "sum(df4[\"AA_score\"] < df4[\"Max_score\"]) / len(df4[\"AA_score\"])\n"
   ]
  }
 ],
 "metadata": {
  "kernelspec": {
   "display_name": "Python 3",
   "language": "python",
   "name": "python3"
  },
  "language_info": {
   "codemirror_mode": {
    "name": "ipython",
    "version": 3
   },
   "file_extension": ".py",
   "mimetype": "text/x-python",
   "name": "python",
   "nbconvert_exporter": "python",
   "pygments_lexer": "ipython3",
   "version": "3.9.2"
  }
 },
 "nbformat": 4,
 "nbformat_minor": 5
}
