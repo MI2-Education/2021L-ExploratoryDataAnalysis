{
 "cells": [
  {
   "cell_type": "markdown",
   "metadata": {},
   "source": [
    "# Praca domowa 5"
   ]
  },
  {
   "cell_type": "code",
   "execution_count": 1,
   "metadata": {},
   "outputs": [],
   "source": [
    "import pandas as pd\n",
    "import numpy as np\n",
    "Users = pd.read_csv(\"Users.csv.gz\")\n",
    "Posts = pd.read_csv(\"Posts.csv.gz\")\n",
    "Comments = pd.read_csv(\"Comments.csv.gz\")"
   ]
  },
  {
   "cell_type": "markdown",
   "metadata": {},
   "source": [
    "### Zadanie 1"
   ]
  },
  {
   "cell_type": "code",
   "execution_count": 14,
   "metadata": {},
   "outputs": [
    {
     "data": {
      "text/plain": [
       "<AxesSubplot:>"
      ]
     },
     "execution_count": 14,
     "metadata": {},
     "output_type": "execute_result"
    },
    {
     "data": {
      "image/png": "[encoded data removed]",
      "text/plain": [
       "<Figure size 432x288 with 1 Axes>"
      ]
     },
     "metadata": {
      "needs_background": "light"
     },
     "output_type": "display_data"
    }
   ],
   "source": [
    "Comments.groupby(\"PostId\")\\\n",
    "    .size()\\\n",
    "    .hist()"
   ]
  },
  {
   "cell_type": "markdown",
   "metadata": {},
   "source": [
    "### Zadanie 2"
   ]
  },
  {
   "cell_type": "code",
   "execution_count": 15,
   "metadata": {},
   "outputs": [
    {
     "data": {
      "text/plain": [
       "'Mark Mayo'"
      ]
     },
     "execution_count": 15,
     "metadata": {},
     "output_type": "execute_result"
    }
   ],
   "source": [
    "OwnerUserId_max = Posts.groupby(\"OwnerUserId\")\\\n",
    "                    .sum(\"ViewCount\")\\\n",
    "                    .reset_index()[[\"OwnerUserId\",\"ViewCount\"]]\\\n",
    "                    .rename(columns={\"ViewCount\": 'ViewCount_sum'})\\\n",
    "                    .sort_values(by='ViewCount_sum', ascending=False).values[0,0]\n",
    "Users[Users[\"Id\"] == OwnerUserId_max].values[0,3]"
   ]
  },
  {
   "cell_type": "markdown",
   "metadata": {},
   "source": [
    "### Zadanie 3"
   ]
  },
  {
   "cell_type": "code",
   "execution_count": 16,
   "metadata": {},
   "outputs": [
    {
     "data": {
      "text/plain": [
       "'jpatokal'"
      ]
     },
     "execution_count": 16,
     "metadata": {},
     "output_type": "execute_result"
    }
   ],
   "source": [
    "aaid = Posts[pd.isnull(Posts[\"AcceptedAnswerId\"]) == False][\"AcceptedAnswerId\"]   # wybieram posty, ktore mają zaakceptowaną odpowiedź\n",
    "second_userid = Posts[Posts[\"Id\"].isin(aaid)].groupby(\"OwnerUserId\")\\\n",
    "                            .size()\\\n",
    "                            .reset_index(name=\"n\")\\\n",
    "                            .sort_values(\"n\", ascending = False).values[1,0]   # ze wszystkich postów wybieram te, które są zaakceptowanymi odpowiedziami, następnie grupuję je ze względu na użytkowników i wybieram Id tego, który ma drugą największa liczbę \n",
    "Users[Users[\"Id\"] == second_userid].values[0,3]  # zapisane Id odnajduję w ramce Users, aby uzyskać nazwę użytkownika"
   ]
  },
  {
   "cell_type": "markdown",
   "metadata": {},
   "source": [
    "### Zadanie 4"
   ]
  },
  {
   "cell_type": "code",
   "execution_count": 17,
   "metadata": {},
   "outputs": [
    {
     "name": "stdout",
     "output_type": "stream",
     "text": [
      "Około 1.44%\n"
     ]
    }
   ],
   "source": [
    "posts_selected = Posts[[\"AcceptedAnswerId\",\"Id\",\"ParentId\",\"Score\"]]\n",
    "score_max = posts_selected.groupby(\"ParentId\")\\\n",
    "        .max(\"Score\")\\\n",
    "        .reset_index()[[\"ParentId\",\"Score\"]] # odpowiedź o najwyższym wyniku dla każdego posta\n",
    "\n",
    "aaid2 = posts_selected[pd.isnull(Posts[\"AcceptedAnswerId\"]) == False][\"AcceptedAnswerId\"] # wybieram posty, ktore mają zaakceptowaną odpowiedź\n",
    "\n",
    "zaakceptowane = posts_selected[posts_selected[\"Id\"].isin(aaid2)][[\"AcceptedAnswerId\",\"Id\",\"Score\",\"ParentId\"]]  # ze wszystkich postów wybieram te, które są zaakceptowanymi odpowiedziami\n",
    "\n",
    "df_merged = zaakceptowane.merge(score_max, on = \"ParentId\")\\\n",
    "    .rename(columns = {\"Score_x\":\"score_acc\",\"Score_y\":\"max_score\"})  # łączę dwie ramki, aby porównać wyniki odpowiedzi (tzn. wynik odpowiedzi o najwyższym wyniku z ramki score_max oraz wynik odpowiedzi, która jest zaakceptowaną odpowiedzią)\n",
    "\n",
    "nizszy = df_merged[df_merged[\"score_acc\"] < df_merged[\"max_score\"]]  # wybieram posty, dla których wynik zaakceptowanej odpowiedzi jest niższy niż wynik odpowiedzi o najwyższym wyniku\n",
    "\n",
    "ods = nizszy.shape[0]/Posts.shape[0]*100   # liczę odsetek postów, dla których wynik zaakceptowanej odpowiedzi jest niższy niż wynik odpowiedzi o najwyższym wyniku we wszystkich postach\n",
    "\n",
    "\n",
    "print(\"Około \" + str(round(ods,2)) + \"%\")"
   ]
  }
 ],
 "metadata": {
  "kernelspec": {
   "display_name": "Python 3",
   "language": "python",
   "name": "python3"
  },
  "language_info": {
   "codemirror_mode": {
    "name": "ipython",
    "version": 3
   },
   "file_extension": ".py",
   "mimetype": "text/x-python",
   "name": "python",
   "nbconvert_exporter": "python",
   "pygments_lexer": "ipython3",
   "version": "3.8.5"
  }
 },
 "nbformat": 4,
 "nbformat_minor": 4
}
