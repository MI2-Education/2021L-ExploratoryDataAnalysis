{
 "cells": [
  {
   "cell_type": "markdown",
   "metadata": {},
   "source": [
    "# Praca Domowa 5 \n",
    "### Katarzyna Grzesiuk"
   ]
  },
  {
   "cell_type": "code",
   "execution_count": 2,
   "metadata": {},
   "outputs": [],
   "source": [
    "import pandas as pd"
   ]
  },
  {
   "cell_type": "code",
   "execution_count": 3,
   "metadata": {},
   "outputs": [],
   "source": [
    "#potrzebne dane\n",
    "Posts = pd.read_csv(\"Posts.csv\")\n",
    "Comments = pd.read_csv(\"Comments.csv\")\n",
    "Users = pd.read_csv(\"Users.csv\")"
   ]
  },
  {
   "cell_type": "markdown",
   "metadata": {},
   "source": [
    "### Zadanie 1"
   ]
  },
  {
   "cell_type": "markdown",
   "metadata": {},
   "source": [
    "Narysuj histogram liczby odpowiedzi (Comments) na post."
   ]
  },
  {
   "cell_type": "code",
   "execution_count": 146,
   "metadata": {},
   "outputs": [
    {
     "data": {
      "text/plain": [
       "Text(0.5, 1.0, 'Histogram liczby odpowiedzi na posty')"
      ]
     },
     "execution_count": 146,
     "metadata": {},
     "output_type": "execute_result"
    },
    {
     "data": {
      "image/png": "[encoded data removed]",
      "text/plain": [
       "<Figure size 432x288 with 1 Axes>"
      ]
     },
     "metadata": {
      "needs_background": "light"
     },
     "output_type": "display_data"
    }
   ],
   "source": [
    "#grupujemy po id postu żeby zliczyć ile komentarzy miał każdy post\n",
    "ile_komentarzy = Comments.groupby(['PostId'])\\\n",
    "                .count()\\\n",
    "                .reset_index()\\\n",
    "                .drop(['Id','Score','UserId'], axis=1)\\\n",
    "                .rename(columns={'CreationDate': 'Count'})\n",
    "histogram = ile_komentarzy['Count'].hist(bins=20)\n",
    "histogram.set_xlabel(\"Liczba odpowiedzi na post\")\n",
    "histogram.set_ylabel(\"Częstość\")\n",
    "histogram.set_title('Histogram liczby odpowiedzi na posty')"
   ]
  },
  {
   "cell_type": "markdown",
   "metadata": {},
   "source": [
    "### Zadanie 2"
   ]
  },
  {
   "cell_type": "markdown",
   "metadata": {},
   "source": [
    "Wypisz nazwę (DisplayName, nie Id!) użytkownika, dla którego suma wyświetleń jego postów jest największa. Wskazówka: aby wyciągnąć odpowiedni OwnerUserId z Posts można użyć .loc, .iloc lub .values."
   ]
  },
  {
   "cell_type": "code",
   "execution_count": 150,
   "metadata": {},
   "outputs": [
    {
     "data": {
      "text/plain": [
       "'Mark Mayo'"
      ]
     },
     "execution_count": 150,
     "metadata": {},
     "output_type": "execute_result"
    }
   ],
   "source": [
    "#zamieniamy wartości NaN na 0 żeby móc policzyć sumę wyświetleń każdego postów każdego użytkownika\n",
    "Posts['ViewCount'] = Posts['ViewCount'].fillna(0)\n",
    "ile_wyswietlen = Posts.groupby(['OwnerUserId'])\\\n",
    "                .sum()['ViewCount']\\\n",
    "                .reset_index()\n",
    "#sortujemy i wybieramy id użytkownika z największą liczbą wyświetleń\n",
    "id = ile_wyswietlen.sort_values(by='ViewCount', ascending=False).iloc[0,0]\n",
    "#wyświetlamy nazwę użytkownika o znalezionym id\n",
    "Users[Users['Id']==id][['DisplayName']].iloc[0,0]"
   ]
  },
  {
   "cell_type": "markdown",
   "metadata": {},
   "source": [
    "### Zadanie 3"
   ]
  },
  {
   "cell_type": "markdown",
   "metadata": {},
   "source": [
    "Wyświetl nazwę użytkownika, który ma drugą największą liczbę odpowiedzi (Comments) oznaczonych jako zaakceptowane rozwiązanie."
   ]
  },
  {
   "cell_type": "code",
   "execution_count": 149,
   "metadata": {},
   "outputs": [
    {
     "data": {
      "text/plain": [
       "'jpatokal'"
      ]
     },
     "execution_count": 149,
     "metadata": {},
     "output_type": "execute_result"
    }
   ],
   "source": [
    "# post jest odpowiedzią jeśli PostTypeId=2\n",
    "# wybieramy numery tych opowiedzi ktore zostały zaakceptowane i następnie łączymy je z ramką Posts po identyfikatorach postów\n",
    "zaakceptowane = Posts[Posts['AcceptedAnswerId']>0][['AcceptedAnswerId']]\n",
    "odp = zaakceptowane.merge(Posts, left_on='AcceptedAnswerId',right_on='Id')[['Id','OwnerUserId']]\n",
    "zliczone = odp.groupby(['OwnerUserId'])\\\n",
    "                .count()\\\n",
    "                .reset_index()\\\n",
    "                .rename(columns={'Id': 'Count'})\n",
    "# mamy ramkę danych z identyfikatorem użutkownika i liczbą jego zaakceptowanych odpowiedzi\n",
    "# posortujemy i wybierzemy identyfikator użytkownika z drugą największą liczbą odpowiedzi\n",
    "id = zliczone.sort_values(by='Count', ascending=False).iloc[1,0]\n",
    "Users[Users['Id']==id][['DisplayName']].iloc[0,0]"
   ]
  },
  {
   "cell_type": "markdown",
   "metadata": {},
   "source": [
    "### Zadanie 4"
   ]
  },
  {
   "cell_type": "markdown",
   "metadata": {},
   "source": [
    "Wyświetl odsetek postów, dla których odpowiedź zaakceptowana ma niższy wynik niż odpowiedź o najwyższym wyniku."
   ]
  },
  {
   "cell_type": "code",
   "execution_count": 4,
   "metadata": {},
   "outputs": [
    {
     "data": {
      "text/plain": [
       "9.044220055710305"
      ]
     },
     "execution_count": 4,
     "metadata": {},
     "output_type": "execute_result"
    }
   ],
   "source": [
    "# wszystkie zaakceptowane odpowiedzi\n",
    "zaakceptowane_id = Posts[Posts['AcceptedAnswerId']>0][['AcceptedAnswerId']]\n",
    "zaakceptowane = zaakceptowane_id.merge(Posts, left_on='AcceptedAnswerId',right_on='Id')[['Score','ParentId']]\\\n",
    "                .rename(columns={'Score': 'Score accepted'})\n",
    "# mamy ramkę danych z zaakceptowanymi odpowiedziami, ich wynikiem oraz identyfikatorem postu, na który odpowiadały\n",
    "Posts['Score']=Posts['Score'].fillna(0)\n",
    "wynik_max = Posts[Posts['PostTypeId']==2].groupby(['ParentId'])[['Score']].max().rename(columns={'Score': 'Max score'})\n",
    "# ramka wynik_max zawera id pytania i wynik jego najwyżej punktowanej odpowiedzi\n",
    "wyniki = zaakceptowane.merge(wynik_max,on='ParentId')\n",
    "nizsze_wyniki = wyniki[wyniki['Score accepted']<wyniki['Max score']]\n",
    "# aby wyznaczyć szukany szukany odsetek wystarczy, że podzielimy długość ramki nizsze_wyniki przez długść ramki wyniki\n",
    "len(nizsze_wyniki)/len(wyniki)*100"
   ]
  }
 ],
 "metadata": {
  "kernelspec": {
   "display_name": "Python 3",
   "language": "python",
   "name": "python3"
  },
  "language_info": {
   "codemirror_mode": {
    "name": "ipython",
    "version": 3
   },
   "file_extension": ".py",
   "mimetype": "text/x-python",
   "name": "python",
   "nbconvert_exporter": "python",
   "pygments_lexer": "ipython3",
   "version": "3.8.2"
  }
 },
 "nbformat": 4,
 "nbformat_minor": 4
}
