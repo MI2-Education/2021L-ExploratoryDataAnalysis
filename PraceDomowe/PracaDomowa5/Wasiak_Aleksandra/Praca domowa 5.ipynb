{
 "cells": [
  {
   "cell_type": "code",
   "execution_count": 1,
   "metadata": {},
   "outputs": [],
   "source": [
    "import pandas as pd"
   ]
  },
  {
   "cell_type": "code",
   "execution_count": 86,
   "metadata": {},
   "outputs": [],
   "source": [
    "Comments = pd.read_csv(\"Comments.csv\")\n",
    "Posts = pd.read_csv(\"Posts.csv\")\n",
    "Users = pd.read_csv(\"Users.csv\")"
   ]
  },
  {
   "cell_type": "code",
   "execution_count": 88,
   "metadata": {},
   "outputs": [
    {
     "data": {
      "text/plain": [
       "array([[<AxesSubplot:title={'center':'CommentCount'}>]], dtype=object)"
      ]
     },
     "execution_count": 88,
     "metadata": {},
     "output_type": "execute_result"
    },
    {
     "data": {
      "image/png": "[encoded data removed]",
      "text/plain": [
       "<Figure size 576x720 with 1 Axes>"
      ]
     },
     "metadata": {
      "needs_background": "light"
     },
     "output_type": "display_data"
    }
   ],
   "source": [
    "# Zadanie 1\n",
    "Posts[['Id','CommentCount']].hist('CommentCount', figsize=(8,10))"
   ]
  },
  {
   "cell_type": "code",
   "execution_count": 92,
   "metadata": {},
   "outputs": [
    {
     "data": {
      "text/html": [
       "<div>\n",
       "<style scoped>\n",
       "    .dataframe tbody tr th:only-of-type {\n",
       "        vertical-align: middle;\n",
       "    }\n",
       "\n",
       "    .dataframe tbody tr th {\n",
       "        vertical-align: top;\n",
       "    }\n",
       "\n",
       "    .dataframe thead th {\n",
       "        text-align: right;\n",
       "    }\n",
       "</style>\n",
       "<table border=\"1\" class=\"dataframe\">\n",
       "  <thead>\n",
       "    <tr style=\"text-align: right;\">\n",
       "      <th></th>\n",
       "      <th>DisplayName</th>\n",
       "    </tr>\n",
       "  </thead>\n",
       "  <tbody>\n",
       "    <tr>\n",
       "      <th>67</th>\n",
       "      <td>Mark Mayo</td>\n",
       "    </tr>\n",
       "  </tbody>\n",
       "</table>\n",
       "</div>"
      ],
      "text/plain": [
       "   DisplayName\n",
       "67   Mark Mayo"
      ]
     },
     "execution_count": 92,
     "metadata": {},
     "output_type": "execute_result"
    }
   ],
   "source": [
    "# Zadanie 2\n",
    "Posts[['Id','OwnerUserId','ViewCount']].groupby(['OwnerUserId'])\\\n",
    ".sum('ViewCount')\\\n",
    ".reset_index()\\\n",
    ".drop(['Id'], axis=1)\\\n",
    ".merge(Users[['Id','DisplayName']], left_on='OwnerUserId',right_on='Id')\\\n",
    ".sort_values(by='ViewCount', ascending=False)\\\n",
    ".head(1)[['DisplayName']]"
   ]
  },
  {
   "cell_type": "code",
   "execution_count": 132,
   "metadata": {},
   "outputs": [
    {
     "data": {
      "text/html": [
       "<div>\n",
       "<style scoped>\n",
       "    .dataframe tbody tr th:only-of-type {\n",
       "        vertical-align: middle;\n",
       "    }\n",
       "\n",
       "    .dataframe tbody tr th {\n",
       "        vertical-align: top;\n",
       "    }\n",
       "\n",
       "    .dataframe thead th {\n",
       "        text-align: right;\n",
       "    }\n",
       "</style>\n",
       "<table border=\"1\" class=\"dataframe\">\n",
       "  <thead>\n",
       "    <tr style=\"text-align: right;\">\n",
       "      <th></th>\n",
       "      <th>DisplayName</th>\n",
       "    </tr>\n",
       "  </thead>\n",
       "  <tbody>\n",
       "    <tr>\n",
       "      <th>63</th>\n",
       "      <td>hippietrail</td>\n",
       "    </tr>\n",
       "  </tbody>\n",
       "</table>\n",
       "</div>"
      ],
      "text/plain": [
       "    DisplayName\n",
       "63  hippietrail"
      ]
     },
     "execution_count": 132,
     "metadata": {},
     "output_type": "execute_result"
    }
   ],
   "source": [
    "# Zadanie 3\n",
    "Posts[Posts['AcceptedAnswerId']>=0].groupby('OwnerUserId')\\\n",
    ".count()\\\n",
    ".reset_index()\\\n",
    ".drop(['AnswerCount','ClosedDate','CommentCount','CommunityOwnedDate','CreationDate','FavoriteCount','Id','LastActivityDate','LastEditDate','LastEditorUserId','ParentId','PostTypeId','Score','Title','ViewCount'], axis=1)\\\n",
    ".rename(columns={'AcceptedAnswerId': 'count'})\\\n",
    ".merge(Users[['DisplayName','Id']], left_on='OwnerUserId',right_on='Id')\\\n",
    ".sort_values(by='count',ascending=False)[['DisplayName']]\\\n",
    ".head(2).tail(1)\n"
   ]
  },
  {
   "cell_type": "code",
   "execution_count": 170,
   "metadata": {},
   "outputs": [
    {
     "data": {
      "text/plain": [
       "0.08513231197771588"
      ]
     },
     "execution_count": 170,
     "metadata": {},
     "output_type": "execute_result"
    }
   ],
   "source": [
    "# Zadanie 4\n",
    "C = Comments[['Id','PostId','Score']].groupby('PostId')\\\n",
    ".max()\\\n",
    ".reset_index()\\\n",
    ".drop(['Id'],axis=1)\\\n",
    ".rename(columns={'Score' : 'MaxScore'})\n",
    "\n",
    "P = Posts[Posts['AcceptedAnswerId']>=0]\n",
    "\n",
    "DF = P[['Id','Score']]\\\n",
    ".merge(C, left_on='Id', right_on='PostId')\n",
    "\n",
    "n = len(DF[DF['Score']<DF['MaxScore']])\n",
    "N = len(P)\n",
    "n/N"
   ]
  }
 ],
 "metadata": {
  "kernelspec": {
   "display_name": "Python 3",
   "language": "python",
   "name": "python3"
  },
  "language_info": {
   "codemirror_mode": {
    "name": "ipython",
    "version": 3
   },
   "file_extension": ".py",
   "mimetype": "text/x-python",
   "name": "python",
   "nbconvert_exporter": "python",
   "pygments_lexer": "ipython3",
   "version": "3.6.11"
  }
 },
 "nbformat": 4,
 "nbformat_minor": 4
}
