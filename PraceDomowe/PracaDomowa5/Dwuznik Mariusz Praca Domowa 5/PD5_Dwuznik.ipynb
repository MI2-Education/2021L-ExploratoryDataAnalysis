{
 "cells": [
  {
   "cell_type": "code",
   "execution_count": 109,
   "metadata": {},
   "outputs": [],
   "source": [
    "import pandas as pd"
   ]
  },
  {
   "cell_type": "code",
   "execution_count": 110,
   "metadata": {},
   "outputs": [],
   "source": [
    "Comments=pd.read_csv(\"Comments.csv\")\n",
    "Posts=pd.read_csv(\"Posts.csv\")\n",
    "Users=pd.read_csv(\"Users.csv\")"
   ]
  },
  {
   "cell_type": "markdown",
   "metadata": {},
   "source": [
    "Zadanko 1 \n",
    "\n",
    "Mamy narysować histogram ilości komentarzy przypisanych do postów. Skorzystam z funkcji hist wykonanej na argumencie CommentCount w ramce Posts, ponieważ oferuje nam ona dokładnie to czego szukamy przy tworzeniu histogramu - liczbę komentarzy pod każdym z postów."
   ]
  },
  {
   "cell_type": "code",
   "execution_count": 111,
   "metadata": {},
   "outputs": [
    {
     "data": {
      "text/plain": [
       "array([[<AxesSubplot:title={'center':'CommentCount'}>]], dtype=object)"
      ]
     },
     "execution_count": 111,
     "metadata": {},
     "output_type": "execute_result"
    },
    {
     "data": {
      "image/png": "[encoded data removed]",
      "text/plain": [
       "<Figure size 576x432 with 1 Axes>"
      ]
     },
     "metadata": {
      "needs_background": "light"
     },
     "output_type": "display_data"
    }
   ],
   "source": [
    "Posts.hist('CommentCount', figsize=(8, 6))"
   ]
  },
  {
   "cell_type": "markdown",
   "metadata": {},
   "source": [
    "Zadanko 2 \n",
    "\n",
    "Wypisz nazwę (DisplayName, nie Id!) użytkownika, dla którego suma wyświetleń jego postów jest największa. Wskazówka: aby wyciągnąć odpowiedni OwnerUserId z Posts można użyć .loc, .iloc lub .values."
   ]
  },
  {
   "cell_type": "code",
   "execution_count": 112,
   "metadata": {},
   "outputs": [
    {
     "data": {
      "text/html": [
       "<div>\n",
       "<style scoped>\n",
       "    .dataframe tbody tr th:only-of-type {\n",
       "        vertical-align: middle;\n",
       "    }\n",
       "\n",
       "    .dataframe tbody tr th {\n",
       "        vertical-align: top;\n",
       "    }\n",
       "\n",
       "    .dataframe thead th {\n",
       "        text-align: right;\n",
       "    }\n",
       "</style>\n",
       "<table border=\"1\" class=\"dataframe\">\n",
       "  <thead>\n",
       "    <tr style=\"text-align: right;\">\n",
       "      <th></th>\n",
       "      <th>DisplayName</th>\n",
       "    </tr>\n",
       "  </thead>\n",
       "  <tbody>\n",
       "    <tr>\n",
       "      <th>0</th>\n",
       "      <td>Mark Mayo</td>\n",
       "    </tr>\n",
       "  </tbody>\n",
       "</table>\n",
       "</div>"
      ],
      "text/plain": [
       "  DisplayName\n",
       "0   Mark Mayo"
      ]
     },
     "execution_count": 112,
     "metadata": {},
     "output_type": "execute_result"
    }
   ],
   "source": [
    "Posts[['OwnerUserId','ViewCount']]\\\n",
    ".groupby('OwnerUserId')\\\n",
    ".sum()\\\n",
    ".sort_values(by='ViewCount', ascending=False)\\\n",
    ".head(1)\\\n",
    ".merge(Users[['Id','DisplayName']], left_on='OwnerUserId',right_on='Id')\\\n",
    ".drop(['ViewCount','Id'], axis=1)\n"
   ]
  },
  {
   "cell_type": "markdown",
   "metadata": {},
   "source": [
    "Zadanko 3 \n",
    "\n",
    "Wyświetl nazwę użytkownika, który ma drugą największą liczbę odpowiedzi (również znajdujących się w ramce Posts) oznaczonych jako zaakceptowane rozwiązanie."
   ]
  },
  {
   "cell_type": "code",
   "execution_count": 113,
   "metadata": {},
   "outputs": [
    {
     "data": {
      "text/html": [
       "<div>\n",
       "<style scoped>\n",
       "    .dataframe tbody tr th:only-of-type {\n",
       "        vertical-align: middle;\n",
       "    }\n",
       "\n",
       "    .dataframe tbody tr th {\n",
       "        vertical-align: top;\n",
       "    }\n",
       "\n",
       "    .dataframe thead th {\n",
       "        text-align: right;\n",
       "    }\n",
       "</style>\n",
       "<table border=\"1\" class=\"dataframe\">\n",
       "  <thead>\n",
       "    <tr style=\"text-align: right;\">\n",
       "      <th></th>\n",
       "      <th>DisplayName</th>\n",
       "    </tr>\n",
       "  </thead>\n",
       "  <tbody>\n",
       "    <tr>\n",
       "      <th>0</th>\n",
       "      <td>hippietrail</td>\n",
       "    </tr>\n",
       "  </tbody>\n",
       "</table>\n",
       "</div>"
      ],
      "text/plain": [
       "   DisplayName\n",
       "0  hippietrail"
      ]
     },
     "execution_count": 113,
     "metadata": {},
     "output_type": "execute_result"
    }
   ],
   "source": [
    "Posts[Posts['AcceptedAnswerId'].notna()].groupby('OwnerUserId')\\\n",
    ".size()\\\n",
    ".reset_index(name='odpowiedzi')\\\n",
    ".sort_values('odpowiedzi', ascending=False)\\\n",
    ".head(2)\\\n",
    ".sort_values('odpowiedzi', ascending=True)\\\n",
    ".merge(Users[['Id','DisplayName']],left_on='OwnerUserId',right_on=\"Id\")\\\n",
    ".head(1)\\\n",
    ".drop(['OwnerUserId','Id','odpowiedzi'], axis=1)"
   ]
  },
  {
   "cell_type": "markdown",
   "metadata": {},
   "source": [
    "Zadanko 4 \n",
    "\n",
    "Wyświetl odsetek postów, dla których odpowiedź zaakceptowana ma niższy wynik niż odpowiedź o najwyższym wyniku."
   ]
  },
  {
   "cell_type": "code",
   "execution_count": 114,
   "metadata": {},
   "outputs": [
    {
     "data": {
      "text/plain": [
       "0.09044220055710306"
      ]
     },
     "execution_count": 114,
     "metadata": {},
     "output_type": "execute_result"
    }
   ],
   "source": [
    "wynik_zaakceptowanej=Posts[Posts['AcceptedAnswerId'].notna()][['AcceptedAnswerId']]\\\n",
    ".merge(Posts,left_on='AcceptedAnswerId',right_on='Id')[['Score','ParentId']]\\\n",
    ".rename(columns={'Score':'wynik'})\n",
    "Posts['Score']=Posts['Score'].fillna(0)\n",
    "wynik_maksymalny=Posts[Posts['PostTypeId']==2].groupby('ParentId')[['Score']]\\\n",
    ".max()\n",
    "mianownik=wynik_zaakceptowanej.merge(wynik_maksymalny,on='ParentId')\n",
    "licznik=mianownik[mianownik['wynik']<mianownik['Score']]\n",
    "odpowiedz=len(licznik)/len(mianownik)\n",
    "odpowiedz"
   ]
  }
 ],
 "metadata": {
  "kernelspec": {
   "display_name": "Python 3",
   "language": "python",
   "name": "python3"
  },
  "language_info": {
   "codemirror_mode": {
    "name": "ipython",
    "version": 3
   },
   "file_extension": ".py",
   "mimetype": "text/x-python",
   "name": "python",
   "nbconvert_exporter": "python",
   "pygments_lexer": "ipython3",
   "version": "3.7.7"
  }
 },
 "nbformat": 4,
 "nbformat_minor": 4
}
