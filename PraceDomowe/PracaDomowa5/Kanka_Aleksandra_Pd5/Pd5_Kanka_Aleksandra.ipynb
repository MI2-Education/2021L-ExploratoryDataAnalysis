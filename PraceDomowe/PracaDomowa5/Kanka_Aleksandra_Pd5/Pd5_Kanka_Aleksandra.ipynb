{
 "cells": [
  {
   "cell_type": "code",
   "execution_count": 8,
   "metadata": {},
   "outputs": [],
   "source": [
    "import pandas as pd\n",
    "import numpy as np\n",
    "\n",
    "Comments = pd.read_csv(\"Comments.csv\")\n",
    "Posts = pd.read_csv(\"Posts.csv\")\n",
    "Users = pd.read_csv(\"Users.csv\")\n"
   ]
  },
  {
   "cell_type": "markdown",
   "metadata": {},
   "source": [
    "### Zadanie 1\n",
    "Narysuj histogram liczby odpowiedzi (Comments) na post."
   ]
  },
  {
   "cell_type": "code",
   "execution_count": 16,
   "metadata": {},
   "outputs": [
    {
     "data": {
      "image/png": "[encoded data removed]",
      "text/plain": [
       "<Figure size 864x936 with 1 Axes>"
      ]
     },
     "metadata": {
      "needs_background": "light"
     },
     "output_type": "display_data"
    }
   ],
   "source": [
    "Com1 = Comments.groupby('PostId')\\\n",
    "        .count()\\\n",
    "        .reset_index()\\\n",
    "        .rename(columns={'Id': 'number_of_comments'})\\\n",
    "        .drop(['CreationDate','Score','UserId'], axis=1)\\\n",
    "        .hist('number_of_comments', figsize=(12, 13))\n",
    "\n"
   ]
  },
  {
   "cell_type": "markdown",
   "metadata": {},
   "source": [
    "### Zadanie 2\n",
    "\n",
    "Wypisz nazwę (DisplayName, nie Id!) użytkownika, dla którego suma wyświetleń jego postów jest największa. Wskazówka: aby wyciągnąć odpowiedni OwnerUserId z Posts można użyć .loc, .iloc lub .values."
   ]
  },
  {
   "cell_type": "code",
   "execution_count": 10,
   "metadata": {},
   "outputs": [
    {
     "data": {
      "text/plain": [
       "'Mark Mayo'"
      ]
     },
     "execution_count": 10,
     "metadata": {},
     "output_type": "execute_result"
    }
   ],
   "source": [
    "Best = Posts.groupby('OwnerUserId')\\\n",
    "        .sum()['ViewCount']\\\n",
    "        .reset_index()\\\n",
    "        .sort_values(by='ViewCount', ascending=False).head(1)\n",
    "        \n",
    "\n",
    "Users[Users[\"Id\"] == Best.iloc[0,0]].iloc[0, 3]"
   ]
  },
  {
   "cell_type": "markdown",
   "metadata": {},
   "source": [
    "### Zadanie 3\n",
    "\n",
    "Wyświetl nazwę użytkownika, który ma drugą największą liczbę odpowiedzi (również znajdujących się w ramce Posts) oznaczonych jako zaakceptowane rozwiązanie.\n"
   ]
  },
  {
   "cell_type": "code",
   "execution_count": 11,
   "metadata": {},
   "outputs": [
    {
     "data": {
      "text/plain": [
       "'jpatokal'"
      ]
     },
     "execution_count": 11,
     "metadata": {},
     "output_type": "execute_result"
    }
   ],
   "source": [
    "posts1 = Posts[[\"AcceptedAnswerId\", \"Id\", \"ParentId\", \"OwnerUserId\"]]\n",
    "Ind = posts1.merge(posts1[[\"OwnerUserId\", \"Id\"]], how = \"left\", left_on = \"AcceptedAnswerId\", right_on = \"Id\")\\\n",
    "        .rename(columns={'OwnerUserId_y': 'OwnerUserId'})\\\n",
    "        .groupby(['OwnerUserId'])\\\n",
    "        .count()\\\n",
    "        .reset_index()\\\n",
    "        .sort_values(by='AcceptedAnswerId', ascending =False)\\\n",
    "        .iloc[1,0]\n",
    "\n",
    "Users[Users[\"Id\"] == Ind][\"DisplayName\"].iloc[0]"
   ]
  },
  {
   "cell_type": "markdown",
   "metadata": {},
   "source": [
    "### Zadanie 4\n",
    "\n",
    "Wyświetl odsetek postów, dla których odpowiedź zaakceptowana ma niższy wynik niż odpowiedź o najwyższym wyniku."
   ]
  },
  {
   "cell_type": "code",
   "execution_count": 12,
   "metadata": {},
   "outputs": [
    {
     "data": {
      "text/plain": [
       "1.4394369709480335"
      ]
     },
     "execution_count": 12,
     "metadata": {},
     "output_type": "execute_result"
    }
   ],
   "source": [
    "posts2 = Posts[[\"AcceptedAnswerId\", \"AnswerCount\", \"Id\", \"ParentId\", \"PostTypeId\", \"Score\"]]\n",
    "\n",
    "posts3 = posts2.merge(posts2[[\"Id\", \"Score\"]], how = \"left\", left_on = \"AcceptedAnswerId\", right_on = \"Id\")\\\n",
    "        .rename(columns={'Score_y': 'Punkty_zaakceptowanej'})\n",
    "\n",
    "posts4 = posts2.groupby('ParentId')\\\n",
    "        .max()['Score']\\\n",
    "        .reset_index()\\\n",
    "        .rename(columns={'Score':'Najlepiej_oceniona'})\n",
    "\n",
    "posts5 = posts3.merge(posts4[[\"ParentId\", \"Najlepiej_oceniona\"]], how = \"left\", left_on = \"Id_x\", right_on = \"ParentId\")\n",
    "\n",
    "## Rozpatrujemy jako odsetek wszystkich postow, nawet tych ktore nie byly pytaniami; w procentach\n",
    "a = len(posts5[posts5['Najlepiej_oceniona']>posts5['Punkty_zaakceptowanej']])\n",
    "b = len(posts5)\n",
    "a/b*100"
   ]
  },
  {
   "cell_type": "code",
   "execution_count": 13,
   "metadata": {},
   "outputs": [
    {
     "data": {
      "text/plain": [
       "9.044220055710305"
      ]
     },
     "execution_count": 13,
     "metadata": {},
     "output_type": "execute_result"
    }
   ],
   "source": [
    "## Jako odsetek postow, dla ktorych odpowiedz zaakceptowana istniala; w procentach\n",
    "\n",
    "m = min(Posts[\"Score\"]) \n",
    "c = len(posts5[posts5[\"Punkty_zaakceptowanej\"] > m-1])\n",
    "a/c*100"
   ]
  },
  {
   "cell_type": "code",
   "execution_count": 14,
   "metadata": {},
   "outputs": [
    {
     "data": {
      "text/plain": [
       "4.099266156395486"
      ]
     },
     "execution_count": 14,
     "metadata": {},
     "output_type": "execute_result"
    }
   ],
   "source": [
    "## Jako odstetek postow, ktore byly pytaniami; w procentach\n",
    "\n",
    "a/len(Posts[Posts[\"PostTypeId\"]==1])*100"
   ]
  }
 ],
 "metadata": {
  "kernelspec": {
   "display_name": "Python 3",
   "language": "python",
   "name": "python3"
  },
  "language_info": {
   "codemirror_mode": {
    "name": "ipython",
    "version": 3
   },
   "file_extension": ".py",
   "mimetype": "text/x-python",
   "name": "python",
   "nbconvert_exporter": "python",
   "pygments_lexer": "ipython3",
   "version": "3.7.4"
  }
 },
 "nbformat": 4,
 "nbformat_minor": 2
}
