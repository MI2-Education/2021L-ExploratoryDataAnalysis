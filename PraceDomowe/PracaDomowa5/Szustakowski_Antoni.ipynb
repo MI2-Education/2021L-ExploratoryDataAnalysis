{
 "cells": [
  {
   "cell_type": "code",
   "execution_count": 1,
   "metadata": {},
   "outputs": [],
   "source": [
    "import pandas as pd\n",
    "import matplotlib as plt\n",
    "Comments = pd.read_csv(\"C:/Users/pc/Downloads/com/Comments.csv\")\n",
    "Posts = pd.read_csv(\"C:/Users/pc/Downloads/post/Posts.csv\")\n",
    "Users = pd.read_csv(\"C:/Users/pc/Downloads/user/Users.csv\")"
   ]
  },
  {
   "cell_type": "markdown",
   "metadata": {},
   "source": [
    "# Zadanie 1\n"
   ]
  },
  {
   "cell_type": "code",
   "execution_count": 2,
   "metadata": {},
   "outputs": [
    {
     "data": {
      "text/plain": [
       "array([[<AxesSubplot:title={'center':'CommentCount'}>]], dtype=object)"
      ]
     },
     "execution_count": 2,
     "metadata": {},
     "output_type": "execute_result"
    },
    {
     "data": {
      "image/png": "[encoded data removed]",
      "text/plain": [
       "<Figure size 432x288 with 1 Axes>"
      ]
     },
     "metadata": {
      "needs_background": "light"
     },
     "output_type": "display_data"
    }
   ],
   "source": [
    "Posts.hist('CommentCount')"
   ]
  },
  {
   "cell_type": "markdown",
   "metadata": {},
   "source": [
    "# Zadanie 2"
   ]
  },
  {
   "cell_type": "code",
   "execution_count": 21,
   "metadata": {},
   "outputs": [
    {
     "data": {
      "text/plain": [
       "97    Mark Mayo\n",
       "Name: DisplayName, dtype: object"
      ]
     },
     "execution_count": 21,
     "metadata": {},
     "output_type": "execute_result"
    }
   ],
   "source": [
    "users_views = Posts[[\"OwnerUserId\", \"ViewCount\"]]\n",
    "users_views\n",
    "users_views_1 = users_views.groupby(\"OwnerUserId\").sum()\n",
    "top_user = users_views_1.sort_values(by = \"ViewCount\", ascending = False).head(1)\n",
    "ID_1 = top_user.index[0]\n",
    "top_user_name = Users[Users[\"Id\"]== ID_1]\n",
    "top_user_name[\"DisplayName\"]"
   ]
  },
  {
   "cell_type": "markdown",
   "metadata": {},
   "source": [
    "# Zadanie 3"
   ]
  },
  {
   "cell_type": "code",
   "execution_count": 26,
   "metadata": {},
   "outputs": [
    {
     "data": {
      "text/plain": [
       "1789    jpatokal\n",
       "Name: DisplayName, dtype: object"
      ]
     },
     "execution_count": 26,
     "metadata": {},
     "output_type": "execute_result"
    }
   ],
   "source": [
    "accepted_answers_1 = Posts[Posts[\"Id\"].isin(Posts[\"AcceptedAnswerId\"]) == True]\n",
    "answers_mid = accepted_answers_1.groupby(\"OwnerUserId\").size()\\\n",
    "                    .reset_index(name = \"Counts\").sort_values(by = \"Counts\", ascending = False).head(2)\n",
    "ID_2 = answers_mid.sort_values(by = \"Counts\", ascending = True).head(1).iloc[0][\"OwnerUserId\"]\n",
    "top_user_name = Users[Users[\"Id\"]== ID_2]\n",
    "top_user_name[\"DisplayName\"]"
   ]
  },
  {
   "cell_type": "markdown",
   "metadata": {},
   "source": [
    "# Zadanie 4\n"
   ]
  },
  {
   "cell_type": "code",
   "execution_count": 23,
   "metadata": {},
   "outputs": [
    {
     "data": {
      "text/plain": [
       "0.09044220055710306"
      ]
     },
     "execution_count": 23,
     "metadata": {},
     "output_type": "execute_result"
    }
   ],
   "source": [
    "accepted_answers_2 = Posts[Posts[\"Id\"].isin(Posts[\"AcceptedAnswerId\"]) == True]\n",
    "parent_id_answers = Posts[Posts[\"ParentId\"].isin(accepted_answers_2[\"ParentId\"]) == True][[\"ParentId\", \"Score\"]]\n",
    "parent_id_answers = parent_id_answers.groupby(\"ParentId\").max()\n",
    "parent_id = parent_id_answers.sort_values(by = \"ParentId\").reset_index()[[\"ParentId\", \"Score\"]]\n",
    "accepted_answers_2 = accepted_answers_2.sort_values(by = \"ParentId\").reset_index()[[\"ParentId\", \"Score\"]]\n",
    "accepted_answers_higher = accepted_answers_2[ (accepted_answers_2[\"Score\"] < parent_id[\"Score\"])]\n",
    "comments_higher = accepted_answers_higher.shape[0]\n",
    "percentage = comments_higher/accepted_answers_2.shape[0]\n",
    "percentage"
   ]
  }
 ],
 "metadata": {
  "kernelspec": {
   "display_name": "Python 3",
   "language": "python",
   "name": "python3"
  },
  "language_info": {
   "codemirror_mode": {
    "name": "ipython",
    "version": 3
   },
   "file_extension": ".py",
   "mimetype": "text/x-python",
   "name": "python",
   "nbconvert_exporter": "python",
   "pygments_lexer": "ipython3",
   "version": "3.8.1"
  }
 },
 "nbformat": 4,
 "nbformat_minor": 4
}
