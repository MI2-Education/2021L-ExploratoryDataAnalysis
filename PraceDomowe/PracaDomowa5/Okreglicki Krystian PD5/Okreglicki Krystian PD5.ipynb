{
 "cells": [
  {
   "cell_type": "markdown",
   "metadata": {},
   "source": [
    "# Praca domowa 5"
   ]
  },
  {
   "cell_type": "markdown",
   "metadata": {},
   "source": [
    "Najpierw wczytajmy dane"
   ]
  },
  {
   "cell_type": "code",
   "execution_count": 41,
   "metadata": {},
   "outputs": [],
   "source": [
    "import pandas as pd"
   ]
  },
  {
   "cell_type": "code",
   "execution_count": 42,
   "metadata": {},
   "outputs": [],
   "source": [
    "filepath1 = \"data/Comments.csv.gz\"\n",
    "filepath2 = \"data/Posts.csv.gz\"\n",
    "filepath3 = \"data/Users.csv.gz\"\n",
    "\n",
    "Comments = pd.read_csv(filepath1)\n",
    "Posts = pd.read_csv(filepath2)\n",
    "Users = pd.read_csv(filepath3)"
   ]
  },
  {
   "cell_type": "markdown",
   "metadata": {},
   "source": [
    "## Zadanie 1"
   ]
  },
  {
   "cell_type": "code",
   "execution_count": 43,
   "metadata": {},
   "outputs": [
    {
     "data": {
      "text/plain": [
       "<AxesSubplot:>"
      ]
     },
     "execution_count": 43,
     "metadata": {},
     "output_type": "execute_result"
    },
    {
     "data": {
      "image/png": "[encoded data removed]",
      "text/plain": [
       "<Figure size 432x288 with 1 Axes>"
      ]
     },
     "metadata": {
      "needs_background": "light"
     },
     "output_type": "display_data"
    }
   ],
   "source": [
    "#Posts['CommentCount'].hist() - jeżeli, intersują nasz też post bez żadnych odpowidzi to ten histogram będzie lepszy \n",
    "\n",
    "Comments.groupby('PostId').count().reset_index()['Id'].hist()"
   ]
  },
  {
   "cell_type": "markdown",
   "metadata": {},
   "source": [
    "## Zadanie 2"
   ]
  },
  {
   "cell_type": "code",
   "execution_count": 44,
   "metadata": {},
   "outputs": [
    {
     "data": {
      "text/plain": [
       "ViewCount      1.4611e+06\n",
       "AccountId             101\n",
       "DisplayName         hitec\n",
       "Name: 9, dtype: object"
      ]
     },
     "execution_count": 44,
     "metadata": {},
     "output_type": "execute_result"
    }
   ],
   "source": [
    "Posts[['OwnerUserId', 'ViewCount']].groupby('OwnerUserId').sum()\\\n",
    "    .merge(Users[['AccountId', 'DisplayName']],  left_on='OwnerUserId', right_on = 'AccountId' )\\\n",
    "    .sort_values(by='ViewCount', ascending=False).iloc[0]\n",
    "\n"
   ]
  },
  {
   "cell_type": "markdown",
   "metadata": {},
   "source": [
    "Zatem użytkownikiem z największą ilością wyświetlonych postów jest 'hitec'."
   ]
  },
  {
   "cell_type": "markdown",
   "metadata": {},
   "source": [
    "## Zadanie 3"
   ]
  },
  {
   "cell_type": "code",
   "execution_count": 45,
   "metadata": {},
   "outputs": [
    {
     "data": {
      "text/html": [
       "<div>\n",
       "<style scoped>\n",
       "    .dataframe tbody tr th:only-of-type {\n",
       "        vertical-align: middle;\n",
       "    }\n",
       "\n",
       "    .dataframe tbody tr th {\n",
       "        vertical-align: top;\n",
       "    }\n",
       "\n",
       "    .dataframe thead th {\n",
       "        text-align: right;\n",
       "    }\n",
       "</style>\n",
       "<table border=\"1\" class=\"dataframe\">\n",
       "  <thead>\n",
       "    <tr style=\"text-align: right;\">\n",
       "      <th></th>\n",
       "      <th>AccountId</th>\n",
       "      <th>Age</th>\n",
       "      <th>CreationDate</th>\n",
       "      <th>DisplayName</th>\n",
       "      <th>DownVotes</th>\n",
       "      <th>Id</th>\n",
       "      <th>LastAccessDate</th>\n",
       "      <th>Location</th>\n",
       "      <th>Reputation</th>\n",
       "      <th>UpVotes</th>\n",
       "      <th>Views</th>\n",
       "    </tr>\n",
       "  </thead>\n",
       "  <tbody>\n",
       "    <tr>\n",
       "      <th>1789</th>\n",
       "      <td>76198.0</td>\n",
       "      <td>NaN</td>\n",
       "      <td>2012-02-12T22:24:02.820</td>\n",
       "      <td>jpatokal</td>\n",
       "      <td>117</td>\n",
       "      <td>1893</td>\n",
       "      <td>2017-08-27T03:15:31.483</td>\n",
       "      <td>NaN</td>\n",
       "      <td>95843</td>\n",
       "      <td>6489</td>\n",
       "      <td>3598</td>\n",
       "    </tr>\n",
       "  </tbody>\n",
       "</table>\n",
       "</div>"
      ],
      "text/plain": [
       "      AccountId  Age             CreationDate DisplayName  DownVotes    Id  \\\n",
       "1789    76198.0  NaN  2012-02-12T22:24:02.820    jpatokal        117  1893   \n",
       "\n",
       "               LastAccessDate Location  Reputation  UpVotes  Views  \n",
       "1789  2017-08-27T03:15:31.483      NaN       95843     6489   3598  "
      ]
     },
     "execution_count": 45,
     "metadata": {},
     "output_type": "execute_result"
    }
   ],
   "source": [
    "odpowiedzi = Posts[Posts['PostTypeId'] == 2]\n",
    "\n",
    "odpowiedzi.merge(Posts, left_on='Id', right_on = 'AcceptedAnswerId', suffixes = ('_odpowiedzi', '_pytania'))\\\n",
    "    .OwnerUserId_odpowiedzi.value_counts().head(2)\n",
    "\n",
    "Users[Users['Id'] == 1893]"
   ]
  },
  {
   "cell_type": "markdown",
   "metadata": {},
   "source": [
    "Zatem użytkownikiem, który ma drugą największą liczbę odpowiedzi jest 'jpatokal'."
   ]
  },
  {
   "cell_type": "markdown",
   "metadata": {},
   "source": [
    "## Zadanie 4"
   ]
  },
  {
   "cell_type": "code",
   "execution_count": 46,
   "metadata": {},
   "outputs": [
    {
     "data": {
      "text/plain": [
       "1039"
      ]
     },
     "execution_count": 46,
     "metadata": {},
     "output_type": "execute_result"
    }
   ],
   "source": [
    "a = Posts[Posts['PostTypeId']==2].groupby('ParentId').max('Score').reset_index()[['ParentId', 'Score']]\n",
    "b = Posts[Posts['PostTypeId'] == 2].merge(Posts, left_on='Id', right_on = 'AcceptedAnswerId', \\\n",
    "                                          suffixes = ('_odpowiedzi', '_pytania'))[['Id_pytania', 'Score_odpowiedzi']]\n",
    "\n",
    "test = a.merge(b, left_on='ParentId', right_on='Id_pytania')\n",
    "len(test[test['Score_odpowiedzi'] < test['Score']].Id_pytania)"
   ]
  },
  {
   "cell_type": "markdown",
   "metadata": {},
   "source": [
    "Zatem odsetek postów dla których odpowiedź zaakceptowana ma niższy wynik niż odpowiedź o najwyższym wyniku wynosi około $9.044 \\, \\%$ (jako całą populacje bierzemy tylko te posty, które zawierają zaakceptowaną odpowiedź)."
   ]
  }
 ],
 "metadata": {
  "kernelspec": {
   "display_name": "Python 3",
   "language": "python",
   "name": "python3"
  },
  "language_info": {
   "codemirror_mode": {
    "name": "ipython",
    "version": 3
   },
   "file_extension": ".py",
   "mimetype": "text/x-python",
   "name": "python",
   "nbconvert_exporter": "python",
   "pygments_lexer": "ipython3",
   "version": "3.8.5"
  }
 },
 "nbformat": 4,
 "nbformat_minor": 4
}
