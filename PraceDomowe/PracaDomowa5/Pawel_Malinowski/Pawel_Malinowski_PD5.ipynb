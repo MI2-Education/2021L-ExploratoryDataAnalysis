{
 "cells": [
  {
   "cell_type": "code",
   "execution_count": 61,
   "metadata": {},
   "outputs": [],
   "source": [
    "import pandas as pd                             \n",
    "import numpy as np\n",
    "comments = pd.read_csv(r\"C:\\Users\\pawel\\OneDrive\\Pulpit\\aaa\\comments.csv\")\n",
    "posts = pd.read_csv(r\"C:\\Users\\pawel\\OneDrive\\Pulpit\\aaa\\posts.csv\")\n",
    "users = pd.read_csv(r\"C:\\Users\\pawel\\OneDrive\\Pulpit\\aaa\\users.csv\")"
   ]
  },
  {
   "cell_type": "code",
   "execution_count": 77,
   "metadata": {
    "scrolled": false
   },
   "outputs": [
    {
     "data": {
      "text/plain": [
       "array([[<AxesSubplot:title={'center':'CommentCount'}>]], dtype=object)"
      ]
     },
     "execution_count": 77,
     "metadata": {},
     "output_type": "execute_result"
    },
    {
     "data": {
      "image/png": "[encoded data removed]",
      "text/plain": [
       "<Figure size 576x432 with 1 Axes>"
      ]
     },
     "metadata": {
      "needs_background": "light"
     },
     "output_type": "display_data"
    }
   ],
   "source": [
    "#zadanie 1\n",
    "posts.hist('CommentCount', figsize=(8, 6))"
   ]
  },
  {
   "cell_type": "code",
   "execution_count": 105,
   "metadata": {},
   "outputs": [
    {
     "data": {
      "text/plain": [
       "97    Mark Mayo\n",
       "Name: DisplayName, dtype: object"
      ]
     },
     "execution_count": 105,
     "metadata": {},
     "output_type": "execute_result"
    }
   ],
   "source": [
    "#zadanie 2\n",
    "posts_count = posts.groupby(['OwnerUserId'])\\\n",
    "                .sum()\\\n",
    "                .reset_index()\n",
    "user_id_number = posts_count.loc[posts_count['ViewCount'].idxmax(),'OwnerUserId']\n",
    "users.loc[users['Id'] == user_id_number,'DisplayName']"
   ]
  },
  {
   "cell_type": "code",
   "execution_count": 117,
   "metadata": {
    "scrolled": true
   },
   "outputs": [
    {
     "data": {
      "text/plain": [
       "97    Mark Mayo\n",
       "Name: DisplayName, dtype: object"
      ]
     },
     "execution_count": 117,
     "metadata": {},
     "output_type": "execute_result"
    }
   ],
   "source": [
    "#zadanie 3\n",
    "answers = posts[posts['PostTypeId']==2]\n",
    "questions = posts[posts['PostTypeId']==1]\n",
    "merged_inner = questions.merge(answers, left_on='AcceptedAnswerId', right_on='Id')\n",
    "posts_users = merged_inner.groupby(['OwnerUserId_y'])\\\n",
    "                .count()\\\n",
    "                .reset_index()\n",
    "user_id_number_2 = posts_users.loc[posts_users['Id_y'].idxmax(),'OwnerUserId_y']\n",
    "users[users['Id']==user_id_number_2].DisplayName"
   ]
  },
  {
   "cell_type": "code",
   "execution_count": 121,
   "metadata": {},
   "outputs": [
    {
     "data": {
      "text/html": [
       "<div>\n",
       "<style scoped>\n",
       "    .dataframe tbody tr th:only-of-type {\n",
       "        vertical-align: middle;\n",
       "    }\n",
       "\n",
       "    .dataframe tbody tr th {\n",
       "        vertical-align: top;\n",
       "    }\n",
       "\n",
       "    .dataframe thead th {\n",
       "        text-align: right;\n",
       "    }\n",
       "</style>\n",
       "<table border=\"1\" class=\"dataframe\">\n",
       "  <thead>\n",
       "    <tr style=\"text-align: right;\">\n",
       "      <th></th>\n",
       "      <th>ParentId</th>\n",
       "      <th>Score</th>\n",
       "    </tr>\n",
       "  </thead>\n",
       "  <tbody>\n",
       "    <tr>\n",
       "      <th>0</th>\n",
       "      <td>1.0</td>\n",
       "      <td>7</td>\n",
       "    </tr>\n",
       "    <tr>\n",
       "      <th>1</th>\n",
       "      <td>2.0</td>\n",
       "      <td>19</td>\n",
       "    </tr>\n",
       "    <tr>\n",
       "      <th>2</th>\n",
       "      <td>4.0</td>\n",
       "      <td>8</td>\n",
       "    </tr>\n",
       "    <tr>\n",
       "      <th>3</th>\n",
       "      <td>5.0</td>\n",
       "      <td>13</td>\n",
       "    </tr>\n",
       "    <tr>\n",
       "      <th>4</th>\n",
       "      <td>6.0</td>\n",
       "      <td>49</td>\n",
       "    </tr>\n",
       "    <tr>\n",
       "      <th>...</th>\n",
       "      <td>...</td>\n",
       "      <td>...</td>\n",
       "    </tr>\n",
       "    <tr>\n",
       "      <th>22976</th>\n",
       "      <td>100912.0</td>\n",
       "      <td>2</td>\n",
       "    </tr>\n",
       "    <tr>\n",
       "      <th>22977</th>\n",
       "      <td>100915.0</td>\n",
       "      <td>1</td>\n",
       "    </tr>\n",
       "    <tr>\n",
       "      <th>22978</th>\n",
       "      <td>100917.0</td>\n",
       "      <td>6</td>\n",
       "    </tr>\n",
       "    <tr>\n",
       "      <th>22979</th>\n",
       "      <td>100924.0</td>\n",
       "      <td>7</td>\n",
       "    </tr>\n",
       "    <tr>\n",
       "      <th>22980</th>\n",
       "      <td>100925.0</td>\n",
       "      <td>8</td>\n",
       "    </tr>\n",
       "  </tbody>\n",
       "</table>\n",
       "<p>22981 rows × 2 columns</p>\n",
       "</div>"
      ],
      "text/plain": [
       "       ParentId  Score\n",
       "0           1.0      7\n",
       "1           2.0     19\n",
       "2           4.0      8\n",
       "3           5.0     13\n",
       "4           6.0     49\n",
       "...         ...    ...\n",
       "22976  100912.0      2\n",
       "22977  100915.0      1\n",
       "22978  100917.0      6\n",
       "22979  100924.0      7\n",
       "22980  100925.0      8\n",
       "\n",
       "[22981 rows x 2 columns]"
      ]
     },
     "execution_count": 121,
     "metadata": {},
     "output_type": "execute_result"
    }
   ],
   "source": [
    "#zadanie 4\n",
    "answers = posts[posts['PostTypeId']==2]\n",
    "questions = posts[posts['PostTypeId']==1]\n",
    "answers_max = answers[['ParentId','Score']].groupby(['ParentId'])\\\n",
    "                .max()\\\n",
    "                .reset_index()\n"
   ]
  }
 ],
 "metadata": {
  "kernelspec": {
   "display_name": "Python 3",
   "language": "python",
   "name": "python3"
  },
  "language_info": {
   "codemirror_mode": {
    "name": "ipython",
    "version": 3
   },
   "file_extension": ".py",
   "mimetype": "text/x-python",
   "name": "python",
   "nbconvert_exporter": "python",
   "pygments_lexer": "ipython3",
   "version": "3.8.5"
  }
 },
 "nbformat": 4,
 "nbformat_minor": 4
}
