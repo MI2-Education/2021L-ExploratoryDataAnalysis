{
 "cells": [
  {
   "cell_type": "code",
   "execution_count": 1,
   "id": "29087333",
   "metadata": {},
   "outputs": [],
   "source": [
    "import pandas as pd"
   ]
  },
  {
   "cell_type": "code",
   "execution_count": 2,
   "id": "3d8480c1",
   "metadata": {},
   "outputs": [],
   "source": [
    "Comments=pd.read_csv('Comments.csv.gz')\n",
    "Posts=pd.read_csv('Posts.csv.gz')\n",
    "Users=pd.read_csv('Users.csv.gz')"
   ]
  },
  {
   "cell_type": "markdown",
   "id": "cad8ded0",
   "metadata": {},
   "source": [
    "Zadanie 1"
   ]
  },
  {
   "cell_type": "code",
   "execution_count": 3,
   "id": "deff3a5a",
   "metadata": {},
   "outputs": [
    {
     "data": {
      "text/plain": [
       "array([[<AxesSubplot:title={'center':'PostId'}>]], dtype=object)"
      ]
     },
     "execution_count": 3,
     "metadata": {},
     "output_type": "execute_result"
    },
    {
     "data": {
      "image/png": "[encoded data removed]",
      "text/plain": [
       "<Figure size 432x288 with 1 Axes>"
      ]
     },
     "metadata": {
      "needs_background": "light"
     },
     "output_type": "display_data"
    }
   ],
   "source": [
    "Comments.hist('PostId')"
   ]
  },
  {
   "cell_type": "markdown",
   "id": "467d360b",
   "metadata": {},
   "source": [
    "Zadanie 2"
   ]
  },
  {
   "cell_type": "code",
   "execution_count": 4,
   "id": "5a2d8569",
   "metadata": {},
   "outputs": [
    {
     "data": {
      "text/plain": [
       "'Mark Mayo'"
      ]
     },
     "execution_count": 4,
     "metadata": {},
     "output_type": "execute_result"
    }
   ],
   "source": [
    "Pos=Posts[['OwnerUserId', 'ViewCount']]\n",
    "Us=Users[['Id', 'DisplayName']]\n",
    "New=Pos.merge(Us, left_on='OwnerUserId', right_on='Id', how='left')\n",
    "New=New.groupby(['OwnerUserId', 'Id', 'DisplayName']).sum(['ViewCount']).sort_values(by='ViewCount').tail(1)\n",
    "New.reset_index().loc[0, 'DisplayName']"
   ]
  },
  {
   "cell_type": "markdown",
   "id": "cf65ba47",
   "metadata": {},
   "source": [
    "Zadanie 3"
   ]
  },
  {
   "cell_type": "code",
   "execution_count": 5,
   "id": "e57ee187",
   "metadata": {},
   "outputs": [
    {
     "data": {
      "text/plain": [
       "'jpatokal'"
      ]
     },
     "execution_count": 5,
     "metadata": {},
     "output_type": "execute_result"
    }
   ],
   "source": [
    "Pos=Posts[['OwnerUserId', 'AcceptedAnswerId', 'Id']]\n",
    "Us=Users[['Id', 'DisplayName']]\n",
    "New=Pos.loc[Pos['Id'].isin(Pos.AcceptedAnswerId),:].value_counts('OwnerUserId')\n",
    "New.reset_index().merge(Us[['Id','DisplayName']], left_on='OwnerUserId', right_on='Id', how='left').loc[1,'DisplayName']"
   ]
  },
  {
   "cell_type": "markdown",
   "id": "369f7780",
   "metadata": {},
   "source": [
    "Zadanie 4"
   ]
  },
  {
   "cell_type": "code",
   "execution_count": 6,
   "id": "6b715e89",
   "metadata": {},
   "outputs": [
    {
     "data": {
      "text/plain": [
       "0.09044220055710306"
      ]
     },
     "execution_count": 6,
     "metadata": {},
     "output_type": "execute_result"
    }
   ],
   "source": [
    "Pos=Posts[['OwnerUserId', 'AcceptedAnswerId', 'Id', 'ParentId', 'Score']]\n",
    "New1=Pos.loc[Pos['Id'].isin(Pos.AcceptedAnswerId),:].sort_values(['ParentId']).reset_index(drop=True)\n",
    "New2=Pos.loc[Pos['ParentId'].isin(Pos.Id),['ParentId', 'Score']].groupby(['ParentId']).max([['Score']]).reset_index()\n",
    "suma=len(New1['Id'])\n",
    "New2=New2.merge(New1, on=['ParentId', 'Score'])\n",
    "odsetek=len(New2['Id'])\n",
    "Odp=1-odsetek/suma\n",
    "Odp"
   ]
  }
 ],
 "metadata": {
  "kernelspec": {
   "display_name": "Python 3",
   "language": "python",
   "name": "python3"
  },
  "language_info": {
   "codemirror_mode": {
    "name": "ipython",
    "version": 3
   },
   "file_extension": ".py",
   "mimetype": "text/x-python",
   "name": "python",
   "nbconvert_exporter": "python",
   "pygments_lexer": "ipython3",
   "version": "3.8.8"
  }
 },
 "nbformat": 4,
 "nbformat_minor": 5
}
