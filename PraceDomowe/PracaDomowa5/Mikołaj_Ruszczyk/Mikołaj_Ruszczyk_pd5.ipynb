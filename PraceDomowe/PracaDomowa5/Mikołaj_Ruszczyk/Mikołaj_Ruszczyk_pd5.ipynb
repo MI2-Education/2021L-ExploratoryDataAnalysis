{
 "cells": [
  {
   "cell_type": "code",
   "execution_count": 1,
   "metadata": {},
   "outputs": [],
   "source": [
    "import pandas as pd\n",
    "import numpy as np\n",
    "Comments=pd.read_csv('Comments.csv')\n",
    "Posts=pd.read_csv('Posts.csv')\n",
    "Users=pd.read_csv('Users.csv')"
   ]
  },
  {
   "cell_type": "markdown",
   "metadata": {},
   "source": [
    "Zadanie 1"
   ]
  },
  {
   "cell_type": "code",
   "execution_count": 2,
   "metadata": {},
   "outputs": [
    {
     "data": {
      "text/plain": [
       "array([[<AxesSubplot:title={'center':'Id'}>]], dtype=object)"
      ]
     },
     "execution_count": 2,
     "metadata": {},
     "output_type": "execute_result"
    },
    {
     "data": {
      "image/png": "[encoded data removed]",
      "text/plain": [
       "<Figure size 432x288 with 1 Axes>"
      ]
     },
     "metadata": {
      "needs_background": "light"
     },
     "output_type": "display_data"
    }
   ],
   "source": [
    "df=Comments.groupby('PostId')\\\n",
    "        .count()\\\n",
    "        .reset_index()\n",
    "df[['Id']].hist()"
   ]
  },
  {
   "cell_type": "markdown",
   "metadata": {},
   "source": [
    "Zadanie 2"
   ]
  },
  {
   "cell_type": "code",
   "execution_count": 4,
   "metadata": {},
   "outputs": [
    {
     "data": {
      "text/html": [
       "<div>\n",
       "<style scoped>\n",
       "    .dataframe tbody tr th:only-of-type {\n",
       "        vertical-align: middle;\n",
       "    }\n",
       "\n",
       "    .dataframe tbody tr th {\n",
       "        vertical-align: top;\n",
       "    }\n",
       "\n",
       "    .dataframe thead th {\n",
       "        text-align: right;\n",
       "    }\n",
       "</style>\n",
       "<table border=\"1\" class=\"dataframe\">\n",
       "  <thead>\n",
       "    <tr style=\"text-align: right;\">\n",
       "      <th></th>\n",
       "      <th>DisplayName</th>\n",
       "    </tr>\n",
       "  </thead>\n",
       "  <tbody>\n",
       "    <tr>\n",
       "      <th>97</th>\n",
       "      <td>Mark Mayo</td>\n",
       "    </tr>\n",
       "  </tbody>\n",
       "</table>\n",
       "</div>"
      ],
      "text/plain": [
       "   DisplayName\n",
       "97   Mark Mayo"
      ]
     },
     "execution_count": 4,
     "metadata": {},
     "output_type": "execute_result"
    }
   ],
   "source": [
    "Posts2=Posts[['OwnerUserId','ViewCount']]\n",
    "df2=Posts2.groupby('OwnerUserId')\\\n",
    "            .sum()\\\n",
    "            .reset_index()\n",
    "df3=df2.sort_values(by='ViewCount',ascending=False)\n",
    "x=df3.values[0,0]\n",
    "Users[Users['Id']==x][['DisplayName']]"
   ]
  },
  {
   "cell_type": "markdown",
   "metadata": {},
   "source": [
    "Zadanie 3"
   ]
  },
  {
   "cell_type": "code",
   "execution_count": 23,
   "metadata": {},
   "outputs": [
    {
     "data": {
      "text/html": [
       "<div>\n",
       "<style scoped>\n",
       "    .dataframe tbody tr th:only-of-type {\n",
       "        vertical-align: middle;\n",
       "    }\n",
       "\n",
       "    .dataframe tbody tr th {\n",
       "        vertical-align: top;\n",
       "    }\n",
       "\n",
       "    .dataframe thead th {\n",
       "        text-align: right;\n",
       "    }\n",
       "</style>\n",
       "<table border=\"1\" class=\"dataframe\">\n",
       "  <thead>\n",
       "    <tr style=\"text-align: right;\">\n",
       "      <th></th>\n",
       "      <th>DisplayName</th>\n",
       "    </tr>\n",
       "  </thead>\n",
       "  <tbody>\n",
       "    <tr>\n",
       "      <th>134</th>\n",
       "      <td>hippietrail</td>\n",
       "    </tr>\n",
       "  </tbody>\n",
       "</table>\n",
       "</div>"
      ],
      "text/plain": [
       "     DisplayName\n",
       "134  hippietrail"
      ]
     },
     "execution_count": 23,
     "metadata": {},
     "output_type": "execute_result"
    }
   ],
   "source": [
    "Posts3=Posts[['AcceptedAnswerId']]\n",
    "data=Posts3.dropna(thresh=1)\n",
    "data2=data.merge(Comments,left_on='AcceptedAnswerId',right_on='Id')\n",
    "data2=data2.groupby('UserId')\\\n",
    "        .count()\\\n",
    "        .reset_index()\n",
    "data2=data2[['UserId','Score']]\n",
    "data2=data2.rename(columns={'Score': 'Count'})\n",
    "data2=data2.sort_values(by='Count',ascending=False)\n",
    "x1=data2.values[1,0]\n",
    "Users[Users['Id']==x1][['DisplayName']]"
   ]
  },
  {
   "cell_type": "markdown",
   "metadata": {},
   "source": [
    "Zadanie 4"
   ]
  },
  {
   "cell_type": "code",
   "execution_count": 24,
   "metadata": {},
   "outputs": [
    {
     "data": {
      "text/plain": [
       "55.1014848113336"
      ]
     },
     "execution_count": 24,
     "metadata": {},
     "output_type": "execute_result"
    }
   ],
   "source": [
    "dane=Comments.groupby('PostId')\\\n",
    "        .max('Score')\\\n",
    "        .reset_index()\n",
    "dane=dane[['PostId','Score']]\n",
    "B=Posts.merge(Comments,left_on='AcceptedAnswerId',right_on='Id')\n",
    "C=B[['PostId','Score_y']]\\\n",
    "        .rename(columns={'Score_y':'Score_sol'})\n",
    "D=C.merge(dane,on='PostId')\n",
    "series1 = D['Score'].squeeze()\n",
    "series2=D['Score_sol'].squeeze()\n",
    "d=sum(series1>series2)\n",
    "l=len(series1)\n",
    "(d/l)*100"
   ]
  }
 ],
 "metadata": {
  "kernelspec": {
   "display_name": "Python 3",
   "language": "python",
   "name": "python3"
  },
  "language_info": {
   "codemirror_mode": {
    "name": "ipython",
    "version": 3
   },
   "file_extension": ".py",
   "mimetype": "text/x-python",
   "name": "python",
   "nbconvert_exporter": "python",
   "pygments_lexer": "ipython3",
   "version": "3.8.5"
  }
 },
 "nbformat": 4,
 "nbformat_minor": 4
}
