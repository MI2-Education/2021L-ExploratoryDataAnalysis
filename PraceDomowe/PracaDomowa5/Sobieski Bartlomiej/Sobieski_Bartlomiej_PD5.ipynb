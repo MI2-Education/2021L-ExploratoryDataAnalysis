{
 "cells": [
  {
   "cell_type": "code",
   "execution_count": 208,
   "metadata": {},
   "outputs": [],
   "source": [
    "# Praca domowa nr 5\n",
    "import pandas as pd\n",
    "import numpy as np\n",
    "\n",
    "path1 = \"data/Comments.csv.gz\"\n",
    "path2 = \"data/Posts.csv.gz\"\n",
    "path3 = \"data/Users.csv.gz\"\n",
    "\n",
    "df_comments = pd.read_csv(path1)\n",
    "df_posts = pd.read_csv(path2)\n",
    "df_users = pd.read_csv(path3)"
   ]
  },
  {
   "cell_type": "code",
   "execution_count": 207,
   "metadata": {},
   "outputs": [
    {
     "data": {
      "text/plain": [
       "<matplotlib.axes._subplots.AxesSubplot at 0x3bee4898>"
      ]
     },
     "execution_count": 207,
     "metadata": {},
     "output_type": "execute_result"
    },
    {
     "data": {
      "image/png": "[encoded data removed]",
      "text/plain": [
       "<Figure size 576x432 with 1 Axes>"
      ]
     },
     "metadata": {
      "needs_background": "light"
     },
     "output_type": "display_data"
    }
   ],
   "source": [
    "# Zadanie 1.\n",
    "\n",
    "df_comments.groupby('PostId').count()['Id'].hist(figsize=(8,6))"
   ]
  },
  {
   "cell_type": "code",
   "execution_count": 206,
   "metadata": {},
   "outputs": [
    {
     "data": {
      "text/plain": [
       "'hitec'"
      ]
     },
     "execution_count": 206,
     "metadata": {},
     "output_type": "execute_result"
    }
   ],
   "source": [
    "# Zadanie 2.\n",
    "\n",
    "id_vcsum_max = df_posts.groupby('OwnerUserId')\\\n",
    "    .sum()\\\n",
    "    .reset_index()\\\n",
    "    .sort_values(by='ViewCount',ascending=False)\\\n",
    "    .iloc[0,0]\n",
    "\n",
    "df_users.loc[df_users['AccountId']==id_vcsum_max,'DisplayName'].values[0]"
   ]
  },
  {
   "cell_type": "code",
   "execution_count": 205,
   "metadata": {},
   "outputs": [
    {
     "data": {
      "text/plain": [
       "'jpatokal'"
      ]
     },
     "execution_count": 205,
     "metadata": {},
     "output_type": "execute_result"
    }
   ],
   "source": [
    "# Zadanie 3.\n",
    "\n",
    "acc_answers = df_posts[df_posts['AcceptedAnswerId'].isnull()==False][['AcceptedAnswerId']]\\\n",
    "    .merge(df_posts[['Id','Score','ParentId','OwnerUserId']], left_on='AcceptedAnswerId', right_on='Id')\n",
    "\n",
    "index = acc_answers.groupby('OwnerUserId').count()['ParentId'].sort_values(ascending=False).reset_index().iloc[1,0]\n",
    "\n",
    "df_users[df_users['Id']==index]['DisplayName'].values[0]"
   ]
  },
  {
   "cell_type": "code",
   "execution_count": 204,
   "metadata": {},
   "outputs": [
    {
     "data": {
      "text/plain": [
       "4.099266156395486"
      ]
     },
     "execution_count": 204,
     "metadata": {},
     "output_type": "execute_result"
    }
   ],
   "source": [
    "# Zadanie 4.\n",
    "\n",
    "max_score_id = df_posts.groupby('ParentId')['Score'].max().reset_index()\n",
    "\n",
    "questions = df_posts[df_posts['PostTypeId']==1]\n",
    "\n",
    "score_comp = df_posts[df_posts['AcceptedAnswerId'].isnull()==False][['AcceptedAnswerId']]\\\n",
    "    .merge(df_posts[['Id','Score','ParentId']], left_on='AcceptedAnswerId', right_on='Id')\\\n",
    "    .merge(max_score_id[['Score','ParentId']], left_on='ParentId',right_on='ParentId', suffixes=(\"_zaakceptowane\",\"_maksymalne\"))\n",
    "\n",
    "len(score_comp[score_comp['Score_zaakceptowane']<score_comp['Score_maksymalne']])/len(questions)*100"
   ]
  }
 ],
 "metadata": {
  "kernelspec": {
   "display_name": "Python 3",
   "language": "python",
   "name": "python3"
  },
  "language_info": {
   "codemirror_mode": {
    "name": "ipython",
    "version": 3
   },
   "file_extension": ".py",
   "mimetype": "text/x-python",
   "name": "python",
   "nbconvert_exporter": "python",
   "pygments_lexer": "ipython3",
   "version": "3.7.1"
  }
 },
 "nbformat": 4,
 "nbformat_minor": 2
}
