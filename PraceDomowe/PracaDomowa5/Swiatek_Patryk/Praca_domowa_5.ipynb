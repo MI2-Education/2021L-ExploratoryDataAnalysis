{
 "cells": [
  {
   "cell_type": "markdown",
   "metadata": {},
   "source": [
    "# Praca domowa nr 5"
   ]
  },
  {
   "cell_type": "code",
   "execution_count": 112,
   "metadata": {},
   "outputs": [],
   "source": [
    "import pandas as pd\n",
    "import numpy as np\n",
    "from matplotlib import pyplot as plt\n"
   ]
  },
  {
   "cell_type": "code",
   "execution_count": 2,
   "metadata": {},
   "outputs": [],
   "source": [
    "#Załadujmy nasze zbiory\n",
    "\n",
    "Posts = pd.read_csv(\"data/Posts.csv\")\n",
    "Comments = pd.read_csv(\"data/Comments.csv\")\n",
    "Users = pd.read_csv(\"data/Users.csv\")"
   ]
  },
  {
   "cell_type": "markdown",
   "metadata": {},
   "source": [
    "## Zadanie 1"
   ]
  },
  {
   "cell_type": "code",
   "execution_count": 114,
   "metadata": {},
   "outputs": [
    {
     "data": {
      "text/plain": [
       "Text(0.5, 1.0, 'Histogram liczby odpowiedzi na post')"
      ]
     },
     "execution_count": 114,
     "metadata": {},
     "output_type": "execute_result"
    },
    {
     "data": {
      "image/png": "[encoded data removed]",
      "text/plain": [
       "<Figure size 576x432 with 1 Axes>"
      ]
     },
     "metadata": {
      "needs_background": "light"
     },
     "output_type": "display_data"
    }
   ],
   "source": [
    "Comments.hist('PostId', figsize=(8,6))\n",
    "plt.title('Histogram liczby odpowiedzi na post')"
   ]
  },
  {
   "cell_type": "markdown",
   "metadata": {},
   "source": [
    "## Zadanie 2"
   ]
  },
  {
   "cell_type": "code",
   "execution_count": 5,
   "metadata": {
    "scrolled": true
   },
   "outputs": [
    {
     "data": {
      "text/plain": [
       "6156    Mark Mayo\n",
       "Name: DisplayName, dtype: object"
      ]
     },
     "execution_count": 5,
     "metadata": {},
     "output_type": "execute_result"
    }
   ],
   "source": [
    "Posts[['OwnerUserId','ViewCount']].merge(Users[['Id','DisplayName']], left_on='OwnerUserId', right_on='Id')\\\n",
    "    .groupby('DisplayName')\\\n",
    "    .sum('ViewCount')\\\n",
    "    .reset_index()\\\n",
    "    .sort_values(by='ViewCount', ascending=False)\\\n",
    "    .head(1)['DisplayName']"
   ]
  },
  {
   "cell_type": "markdown",
   "metadata": {},
   "source": [
    "## Zadanie 3"
   ]
  },
  {
   "cell_type": "code",
   "execution_count": 109,
   "metadata": {},
   "outputs": [
    {
     "data": {
      "text/plain": [
       "'jpatokal'"
      ]
     },
     "execution_count": 109,
     "metadata": {},
     "output_type": "execute_result"
    }
   ],
   "source": [
    "Posts[Posts['Id'].isin(Posts['AcceptedAnswerId'])]\\\n",
    "    .value_counts('OwnerUserId')\\\n",
    "    .reset_index()\\\n",
    "    .rename(columns={0: 'n'})\\\n",
    "    .sort_values(by='n', ascending=False)\\\n",
    "    .merge(Users, left_on='OwnerUserId', right_on='Id')\\\n",
    "    .iloc[1]['DisplayName']"
   ]
  },
  {
   "cell_type": "markdown",
   "metadata": {},
   "source": [
    "## Zadanie 4"
   ]
  },
  {
   "cell_type": "code",
   "execution_count": 108,
   "metadata": {},
   "outputs": [
    {
     "data": {
      "text/plain": [
       "0.09044220055710306"
      ]
     },
     "execution_count": 108,
     "metadata": {},
     "output_type": "execute_result"
    }
   ],
   "source": [
    "Posts_accepted = Posts['Id'].isin(Posts['AcceptedAnswerId'])\n",
    "                                  \n",
    "a = Posts[Posts['ParentId'].isin(Posts[Posts_accepted]['ParentId'])]\\\n",
    "    .groupby('ParentId')\\\n",
    "    .max('Score')\\\n",
    "    .reset_index()\\\n",
    "    .rename(columns={'Score':'Max_Score'})\\\n",
    "    [['Id','Max_Score', 'ParentId']]\\\n",
    "    .merge(Posts[Posts['Id'].isin(Posts['AcceptedAnswerId'])], on='ParentId')\n",
    "\n",
    "liczba_wiekszych = a[a['Max_Score']>a['Score']].count().reset_index()\\\n",
    "    .rename(columns={0:'n'}).iloc[1]['n']\n",
    "liczba = a.count().reset_index()\\\n",
    "    .rename(columns={0:'n'}).iloc[1]['n']\n",
    "\n",
    "odsetek = liczba_wiekszych / liczba\n",
    "odsetek"
   ]
  }
 ],
 "metadata": {
  "kernelspec": {
   "display_name": "Python 3",
   "language": "python",
   "name": "python3"
  },
  "language_info": {
   "codemirror_mode": {
    "name": "ipython",
    "version": 3
   },
   "file_extension": ".py",
   "mimetype": "text/x-python",
   "name": "python",
   "nbconvert_exporter": "python",
   "pygments_lexer": "ipython3",
   "version": "3.7.9"
  }
 },
 "nbformat": 4,
 "nbformat_minor": 4
}
