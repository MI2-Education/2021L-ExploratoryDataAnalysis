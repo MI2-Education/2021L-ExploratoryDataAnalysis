{
 "cells": [
  {
   "cell_type": "code",
   "execution_count": 1,
   "metadata": {},
   "outputs": [],
   "source": [
    "import pandas as pd"
   ]
  },
  {
   "cell_type": "code",
   "execution_count": 2,
   "metadata": {},
   "outputs": [],
   "source": [
    "comments=pd.read_csv(\"Comments.csv\")\n",
    "users=pd.read_csv(\"Users.csv\")\n",
    "posts=pd.read_csv(\"Posts.csv\")"
   ]
  },
  {
   "cell_type": "code",
   "execution_count": 3,
   "metadata": {},
   "outputs": [
    {
     "data": {
      "image/png": "[encoded data removed]",
      "text/plain": [
       "<Figure size 432x288 with 1 Axes>"
      ]
     },
     "metadata": {
      "needs_background": "light"
     },
     "output_type": "display_data"
    }
   ],
   "source": [
    "#Zadanie 1\n",
    "hist=posts.hist('CommentCount')"
   ]
  },
  {
   "cell_type": "code",
   "execution_count": 4,
   "metadata": {},
   "outputs": [
    {
     "data": {
      "text/plain": [
       "'Mark Mayo'"
      ]
     },
     "execution_count": 4,
     "metadata": {},
     "output_type": "execute_result"
    }
   ],
   "source": [
    "#Zadanie 2\n",
    "id=posts.groupby('OwnerUserId')\\\n",
    "                .sum('ViewCount')\\\n",
    "                .sort_values('ViewCount',ascending=False)\\\n",
    "                .reset_index()\\\n",
    "                .loc[0,'OwnerUserId']\n",
    "users[users['Id']==id].loc[:,'DisplayName'].values[0]\n",
    "# w ramce users jest zarówno AccountId jak i Id wiec w tym i nastepnym zadaniu nie bardzo wiadomo które,\n",
    "# ale wybralem id bo wydaje sie mieć wiecej sensu"
   ]
  },
  {
   "cell_type": "code",
   "execution_count": 5,
   "metadata": {
    "scrolled": true
   },
   "outputs": [
    {
     "data": {
      "text/plain": [
       "'jpatokal'"
      ]
     },
     "execution_count": 5,
     "metadata": {},
     "output_type": "execute_result"
    }
   ],
   "source": [
    "#Zadanie 3\n",
    "id=posts[posts['Id'].isin(posts['AcceptedAnswerId'])][['OwnerUserId','Id']]\\\n",
    "                    .groupby('OwnerUserId')\\\n",
    "                    .count()\\\n",
    "                    .sort_values('Id',ascending=False)\\\n",
    "                    .reset_index()\\\n",
    "                    .loc[1,'OwnerUserId']\n",
    "users[users['Id']==id].loc[:,'DisplayName'].values[0]"
   ]
  },
  {
   "cell_type": "code",
   "execution_count": 6,
   "metadata": {},
   "outputs": [
    {
     "name": "stdout",
     "output_type": "stream",
     "text": [
      "4.099266156395486%\n"
     ]
    }
   ],
   "source": [
    "#Zadanie 4\n",
    "accepted=posts[posts['Id'].isin(posts['AcceptedAnswerId'])][['Score','ParentId']]\n",
    "max_score=posts[['ParentId','Score']]\\\n",
    "            .groupby('ParentId')\\\n",
    "            .max()\\\n",
    "            .reset_index()\n",
    "answers=accepted.merge(max_score,left_on='ParentId',right_on='ParentId',suffixes=('_acc','_max'))\n",
    "print(f\"{len(answers[answers['Score_acc']<answers['Score_max']])/len(posts[posts['PostTypeId']==1])*100}%\")"
   ]
  }
 ],
 "metadata": {
  "kernelspec": {
   "display_name": "Python 3",
   "language": "python",
   "name": "python3"
  },
  "language_info": {
   "codemirror_mode": {
    "name": "ipython",
    "version": 3
   },
   "file_extension": ".py",
   "mimetype": "text/x-python",
   "name": "python",
   "nbconvert_exporter": "python",
   "pygments_lexer": "ipython3",
   "version": "3.8.5"
  }
 },
 "nbformat": 4,
 "nbformat_minor": 4
}
