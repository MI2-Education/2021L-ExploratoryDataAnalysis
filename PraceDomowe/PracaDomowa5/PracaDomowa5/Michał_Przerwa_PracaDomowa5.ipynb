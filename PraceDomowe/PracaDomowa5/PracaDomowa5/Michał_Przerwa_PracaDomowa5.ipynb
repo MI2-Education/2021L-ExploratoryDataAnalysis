{
 "cells": [
  {
   "cell_type": "code",
   "execution_count": 53,
   "metadata": {},
   "outputs": [],
   "source": [
    "import numpy as np\n",
    "import pandas as pd"
   ]
  },
  {
   "cell_type": "code",
   "execution_count": 54,
   "metadata": {},
   "outputs": [],
   "source": [
    "com = pd.read_csv(\"Comments.csv.gz\", comment=\"#\", compression=\"gzip\")\n",
    "comments = pd.DataFrame(data=com)\n",
    "pos = pd.read_csv(\"Posts.csv.gz\", comment=\"#\", compression=\"gzip\")\n",
    "posts = pd.DataFrame(data=pos)\n",
    "use = pd.read_csv(\"Users.csv.gz\", comment=\"#\", compression=\"gzip\")\n",
    "users = pd.DataFrame(data=use)"
   ]
  },
  {
   "cell_type": "code",
   "execution_count": 55,
   "metadata": {},
   "outputs": [
    {
     "data": {
      "text/plain": [
       "array([[<matplotlib.axes._subplots.AxesSubplot object at 0x000001DE860027C8>]],\n",
       "      dtype=object)"
      ]
     },
     "execution_count": 55,
     "metadata": {},
     "output_type": "execute_result"
    },
    {
     "data": {
      "image/png": "[encoded data removed]",
      "text/plain": [
       "<Figure size 576x432 with 1 Axes>"
      ]
     },
     "metadata": {
      "needs_background": "light"
     },
     "output_type": "display_data"
    }
   ],
   "source": [
    "# Zadanie 1\n",
    "\n",
    "comments.hist('PostId', figsize=(8,6))"
   ]
  },
  {
   "cell_type": "code",
   "execution_count": 56,
   "metadata": {},
   "outputs": [
    {
     "data": {
      "text/plain": [
       "'Mark Mayo'"
      ]
     },
     "execution_count": 56,
     "metadata": {},
     "output_type": "execute_result"
    }
   ],
   "source": [
    "# Zadanie 2 \n",
    "posty = posts.groupby(\"OwnerUserId\")\\\n",
    "    .sum()[\"ViewCount\"]\\\n",
    "    .reset_index()\n",
    "wynik = users.merge(posty, left_on=\"Id\", right_on=\"OwnerUserId\")\\\n",
    "    .sort_values(by=\"ViewCount\", ascending=False)\\\n",
    "    .values[0,3]\n",
    "wynik"
   ]
  },
  {
   "cell_type": "code",
   "execution_count": 57,
   "metadata": {},
   "outputs": [
    {
     "data": {
      "text/plain": [
       "'hippietrail'"
      ]
     },
     "execution_count": 57,
     "metadata": {},
     "output_type": "execute_result"
    }
   ],
   "source": [
    "# Zadanie 3\n",
    "posty = posts[[\"AcceptedAnswerId\",\"Id\"]].dropna()\\\n",
    "    .merge(posts, on=[\"AcceptedAnswerId\",\"Id\"])\\\n",
    "    .groupby(\"OwnerUserId\")\\\n",
    "    .count()[\"AcceptedAnswerId\"]\\\n",
    "   .reset_index()\\\n",
    "    .rename(columns={'AcceptedAnswerId':'AcceptedAnswers'})\n",
    "wynik = users.merge(posty, left_on=\"Id\", right_on=\"OwnerUserId\")\\\n",
    "        .sort_values(by=\"AcceptedAnswers\", ascending=False)\\\n",
    "        .values[1,3]\n",
    "wynik"
   ]
  },
  {
   "cell_type": "code",
   "execution_count": 58,
   "metadata": {},
   "outputs": [
    {
     "data": {
      "text/plain": [
       "0.08513231197771588"
      ]
     },
     "execution_count": 58,
     "metadata": {},
     "output_type": "execute_result"
    }
   ],
   "source": [
    "# Zadanie 4\n",
    "posty = posts[[\"AcceptedAnswerId\",\"Id\"]]\\\n",
    "    .dropna()\\\n",
    "    .merge(posts, on=[\"AcceptedAnswerId\",\"Id\"])\n",
    "dlugosc_posty = len(posty)\n",
    "dolacz = comments.groupby(\"PostId\")\\\n",
    "    .max()[\"Score\"]\\\n",
    "    .reset_index()\\\n",
    "    .rename(columns={\"Score\":\"MaxScore\"})\n",
    "posty2 = posty.merge(dolacz, left_on = \"Id\", right_on=\"PostId\")[[\"Id\",\"Score\",\"MaxScore\"]]\n",
    "odsetek = posty2[posty2[\"MaxScore\"] > posty2[\"Score\"]]\n",
    "dlugosc_odsetek = len(odsetek)\n",
    "dlugosc_odsetek/dlugosc_posty"
   ]
  }
 ],
 "metadata": {
  "kernelspec": {
   "display_name": "Python 3",
   "language": "python",
   "name": "python3"
  },
  "language_info": {
   "codemirror_mode": {
    "name": "ipython",
    "version": 3
   },
   "file_extension": ".py",
   "mimetype": "text/x-python",
   "name": "python",
   "nbconvert_exporter": "python",
   "pygments_lexer": "ipython3",
   "version": "3.7.4"
  }
 },
 "nbformat": 4,
 "nbformat_minor": 2
}
